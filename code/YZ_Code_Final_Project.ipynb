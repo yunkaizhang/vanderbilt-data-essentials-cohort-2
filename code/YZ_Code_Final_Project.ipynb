{
 "cells": [
  {
   "cell_type": "code",
   "execution_count": 1,
   "metadata": {},
   "outputs": [],
   "source": [
    "import pandas as pd\n",
    "import matplotlib.pyplot as plt\n",
    "import seaborn as sns\n",
    "from sklearn.model_selection import train_test_split\n",
    "from sklearn.linear_model import LogisticRegression\n",
    "from sklearn.ensemble import RandomForestClassifier\n",
    "from sklearn.tree import DecisionTreeClassifier\n",
    "from sklearn import metrics\n",
    "import numpy as np\n",
    "\n",
    "import warnings\n",
    "warnings.filterwarnings('ignore')\n",
    "\n",
    "%matplotlib inline"
   ]
  },
  {
   "cell_type": "markdown",
   "metadata": {},
   "source": [
    "### Data Import and Clean ###"
   ]
  },
  {
   "cell_type": "code",
   "execution_count": 2,
   "metadata": {},
   "outputs": [],
   "source": [
    "# Heart Attack Data\n",
    "ha_costs_df = pd.read_csv('../data/mmd_heart_attack_data.csv')\n",
    "ha_costs_df = ha_costs_df.query('state == \"TENNESSEE\"')\n",
    "tn_ha_costs = ha_costs_df[['county','urban','analysis_value']]\n",
    "\n",
    "# Cancer Data\n",
    "cancer_costs_df = pd.read_csv('../data/mmd_cancer_data.csv')\n",
    "cancer_costs_df = cancer_costs_df.query('state == \"TENNESSEE\"')\n",
    "tn_cancer_costs = cancer_costs_df[['county','urban','analysis_value']]\n",
    "\n",
    "# Income data\n",
    "income_df = pd.read_csv('../data/irs_county_2016.csv')\n",
    "income_df = income_df.query('STATE == \"TN\"')\n",
    "column_list = ['STATE', 'COUNTYNAME', 'agi_stub', 'N1', 'mars1', 'MARS2', 'MARS4', 'N2', 'NUMDEP', 'ELDERLY', 'A00100', 'N02650', 'A02650', 'N02300', 'A02300']\n",
    "income_df = income_df[column_list]\n",
    "new_column_list = ['state', 'county', 'income_bucket', 'return_count', 'single_returns', 'joint_returns', 'head_of_house_returns', 'exemptions', 'dependents', 'elderly', 'agi', 'returns_with_total_inc','total_inc_amt', 'returns_with_unemployment', 'unemployment_comp']\n",
    "column_name_dict = dict(zip(column_list,new_column_list))\n",
    "income_df = income_df.rename(columns = column_name_dict)\n",
    "value_key = income_df.income_bucket.unique().tolist()\n",
    "value_list = ['Total', 'Under $1', 'Between 1 and $10,000', 'Between 10,000 and $25,000','Between 25,000 and $50,000', 'Between 50,000 and $75,000', 'Between 75,000 and $100,000', 'Between 100,000 and $200,000', '$200,000 or more'\n",
    "        ]\n",
    "income_dict = dict(zip(value_key,value_list[1:]))\n",
    "income_df.income_bucket = income_df.income_bucket.replace(income_dict)\n",
    "income_county_agg = income_df.groupby(['county']).sum()\n",
    "income_county_agg = income_county_agg.reset_index()\n",
    "income_county_agg['avg_income'] = round(income_county_agg.total_inc_amt * 1000 / income_county_agg.return_count)\n",
    "\n",
    "tn_ha_cost2 = pd.merge(income_county_agg[['county','avg_income']], tn_ha_costs, on=\"county\", how = 'left')\n",
    "tn_ha_cost2['cost_income_ratio'] = tn_ha_cost2.analysis_value / tn_ha_cost2.avg_income\n",
    "tn_ha_cost2['classifer'] = 0\n",
    "tn_ha_cost2.loc[tn_ha_cost2.cost_income_ratio > tn_ha_cost2.cost_income_ratio.mean(),'classifer'] = 1\n",
    "tn_ha_cost2 = pd.get_dummies(tn_ha_cost2, columns = ['urban'], drop_first = True)\n",
    "\n",
    "tn_cancer_cost2 = pd.merge(income_county_agg[['county','avg_income']], tn_cancer_costs, on=\"county\", how = 'left')\n",
    "tn_cancer_cost2['cost_income_ratio'] = tn_cancer_cost2.analysis_value / tn_cancer_cost2.avg_income\n",
    "tn_cancer_cost2['classifer'] = 0\n",
    "tn_cancer_cost2.loc[tn_cancer_cost2.cost_income_ratio > tn_cancer_cost2.cost_income_ratio.mean(),'classifer'] = 1\n",
    "tn_cancer_cost2 = pd.get_dummies(tn_cancer_cost2, columns = ['urban'], drop_first = True)"
   ]
  },
  {
   "cell_type": "code",
   "execution_count": 3,
   "metadata": {},
   "outputs": [],
   "source": [
    "# other downloaded data\n",
    "population = pd.read_csv('../Data/PEP_2016_PEPANNRES_with_ann.csv',header=[0,1])\n",
    "population = population.iloc[1:,[2,-1]]\n",
    "population.columns = ['county','total_population']\n",
    "population_change = pd.read_csv('../Data/PEP_2016_PEPTCOMP_with_ann.csv',header=[0,1])\n",
    "population_change = population_change.iloc[1:,[2,4,7]]\n",
    "population_change.columns = ['county','natural_change','migration_change']\n",
    "age_sex = pd.read_csv('../Data/PEP_2016_PEPAGESEX_with_ann.csv',skiprows = 0, header=1)\n",
    "age_sex = age_sex[['Geography','Population Estimate (as of July 1) - 2016 - Male; Total',\n",
    "                   'Population Estimate (as of July 1) - 2016 - Both Sexes; 65 years and over',\n",
    "                  'Population Estimate (as of July 1) - 2016 - Male; 65 years and over']]\n",
    "age_sex.columns = ['county','male_population','male_65_and_over','female_65_and_over']\n",
    "other_data = pd.merge(population,population_change,on='county',how='outer')\n",
    "other_data = pd.merge(other_data, age_sex, on='county', how='outer')\n",
    "other_data.county = other_data.county.str[0:-11]"
   ]
  },
  {
   "cell_type": "code",
   "execution_count": 4,
   "metadata": {},
   "outputs": [],
   "source": [
    "ha_all_data = pd.merge(tn_ha_cost2,other_data,on='county',how='inner')\n",
    "ha_all_data = ha_all_data.dropna()\n",
    "cancer_all_data = pd.merge(tn_cancer_cost2,other_data,on='county',how='inner')"
   ]
  },
  {
   "cell_type": "code",
   "execution_count": 5,
   "metadata": {},
   "outputs": [
    {
     "data": {
      "text/html": [
       "<div>\n",
       "<style scoped>\n",
       "    .dataframe tbody tr th:only-of-type {\n",
       "        vertical-align: middle;\n",
       "    }\n",
       "\n",
       "    .dataframe tbody tr th {\n",
       "        vertical-align: top;\n",
       "    }\n",
       "\n",
       "    .dataframe thead th {\n",
       "        text-align: right;\n",
       "    }\n",
       "</style>\n",
       "<table border=\"1\" class=\"dataframe\">\n",
       "  <thead>\n",
       "    <tr style=\"text-align: right;\">\n",
       "      <th></th>\n",
       "      <th>county</th>\n",
       "      <th>avg_income</th>\n",
       "      <th>analysis_value</th>\n",
       "      <th>cost_income_ratio</th>\n",
       "      <th>classifer</th>\n",
       "      <th>urban_Urban</th>\n",
       "      <th>total_population</th>\n",
       "      <th>natural_change</th>\n",
       "      <th>migration_change</th>\n",
       "      <th>male_population</th>\n",
       "      <th>male_65_and_over</th>\n",
       "      <th>female_65_and_over</th>\n",
       "    </tr>\n",
       "  </thead>\n",
       "  <tbody>\n",
       "    <tr>\n",
       "      <th>0</th>\n",
       "      <td>Anderson County</td>\n",
       "      <td>53382.0</td>\n",
       "      <td>42749.0</td>\n",
       "      <td>0.800813</td>\n",
       "      <td>0</td>\n",
       "      <td>1</td>\n",
       "      <td>75936</td>\n",
       "      <td>-689</td>\n",
       "      <td>1580</td>\n",
       "      <td>36905</td>\n",
       "      <td>14972</td>\n",
       "      <td>6590</td>\n",
       "    </tr>\n",
       "    <tr>\n",
       "      <th>1</th>\n",
       "      <td>Bedford County</td>\n",
       "      <td>47128.0</td>\n",
       "      <td>43661.0</td>\n",
       "      <td>0.926434</td>\n",
       "      <td>0</td>\n",
       "      <td>0</td>\n",
       "      <td>47484</td>\n",
       "      <td>1056</td>\n",
       "      <td>1323</td>\n",
       "      <td>23343</td>\n",
       "      <td>7162</td>\n",
       "      <td>3205</td>\n",
       "    </tr>\n",
       "    <tr>\n",
       "      <th>2</th>\n",
       "      <td>Benton County</td>\n",
       "      <td>41297.0</td>\n",
       "      <td>44423.0</td>\n",
       "      <td>1.075696</td>\n",
       "      <td>1</td>\n",
       "      <td>0</td>\n",
       "      <td>16014</td>\n",
       "      <td>-511</td>\n",
       "      <td>34</td>\n",
       "      <td>7896</td>\n",
       "      <td>3730</td>\n",
       "      <td>1754</td>\n",
       "    </tr>\n",
       "  </tbody>\n",
       "</table>\n",
       "</div>"
      ],
      "text/plain": [
       "            county  avg_income  analysis_value  cost_income_ratio  classifer  \\\n",
       "0  Anderson County     53382.0         42749.0           0.800813          0   \n",
       "1   Bedford County     47128.0         43661.0           0.926434          0   \n",
       "2    Benton County     41297.0         44423.0           1.075696          1   \n",
       "\n",
       "   urban_Urban  total_population  natural_change  migration_change  \\\n",
       "0            1             75936            -689              1580   \n",
       "1            0             47484            1056              1323   \n",
       "2            0             16014            -511                34   \n",
       "\n",
       "   male_population  male_65_and_over  female_65_and_over  \n",
       "0            36905             14972                6590  \n",
       "1            23343              7162                3205  \n",
       "2             7896              3730                1754  "
      ]
     },
     "execution_count": 5,
     "metadata": {},
     "output_type": "execute_result"
    }
   ],
   "source": [
    "ha_all_data.head(3)"
   ]
  },
  {
   "cell_type": "markdown",
   "metadata": {},
   "source": [
    "### Modeling (Heart Attack Data) ###"
   ]
  },
  {
   "cell_type": "code",
   "execution_count": 6,
   "metadata": {},
   "outputs": [
    {
     "data": {
      "text/plain": [
       "county                0\n",
       "avg_income            0\n",
       "analysis_value        0\n",
       "cost_income_ratio     0\n",
       "classifer             0\n",
       "urban_Urban           0\n",
       "total_population      0\n",
       "natural_change        0\n",
       "migration_change      0\n",
       "male_population       0\n",
       "male_65_and_over      0\n",
       "female_65_and_over    0\n",
       "dtype: int64"
      ]
     },
     "execution_count": 6,
     "metadata": {},
     "output_type": "execute_result"
    }
   ],
   "source": [
    "ha_all_data.isnull().sum()"
   ]
  },
  {
   "cell_type": "code",
   "execution_count": 28,
   "metadata": {},
   "outputs": [
    {
     "data": {
      "text/plain": [
       "RandomForestClassifier(bootstrap=True, class_weight=None, criterion='gini',\n",
       "                       max_depth=6, max_features='auto', max_leaf_nodes=None,\n",
       "                       min_impurity_decrease=0.0, min_impurity_split=None,\n",
       "                       min_samples_leaf=5, min_samples_split=2,\n",
       "                       min_weight_fraction_leaf=0.0, n_estimators=1000,\n",
       "                       n_jobs=None, oob_score=False, random_state=None,\n",
       "                       verbose=0, warm_start=False)"
      ]
     },
     "execution_count": 28,
     "metadata": {},
     "output_type": "execute_result"
    }
   ],
   "source": [
    "# X = ha_all_data.drop(columns = ['classifer','county','cost_income_ratio'])\n",
    "X = ha_all_data.drop(columns = ['classifer','county','avg_income','analysis_value','cost_income_ratio'])\n",
    "y = ha_all_data.classifer\n",
    "X_train, X_test, y_train, y_test = train_test_split(X, y, random_state = 42)\n",
    "\n",
    "forest = RandomForestClassifier(n_estimators = 1000, max_depth = 6, min_samples_leaf = 5)\n",
    "forest.fit(X_train, y_train)"
   ]
  },
  {
   "cell_type": "code",
   "execution_count": 29,
   "metadata": {},
   "outputs": [
    {
     "name": "stdout",
     "output_type": "stream",
     "text": [
      "0.8088235294117647\n"
     ]
    }
   ],
   "source": [
    "y_pred_train = forest.predict(X_train)\n",
    "print(metrics.accuracy_score(y_train, y_pred_train))"
   ]
  },
  {
   "cell_type": "code",
   "execution_count": 30,
   "metadata": {},
   "outputs": [
    {
     "name": "stdout",
     "output_type": "stream",
     "text": [
      "0.6956521739130435\n"
     ]
    }
   ],
   "source": [
    "y_pred = forest.predict(X_test)\n",
    "print(metrics.accuracy_score(y_test, y_pred))"
   ]
  },
  {
   "cell_type": "code",
   "execution_count": 10,
   "metadata": {},
   "outputs": [
    {
     "data": {
      "image/png": "[encoded data removed]",
      "text/plain": [
       "<Figure size 504x360 with 1 Axes>"
      ]
     },
     "metadata": {
      "needs_background": "light"
     },
     "output_type": "display_data"
    }
   ],
   "source": [
    "fig, ax = plt.subplots(figsize = (7,5))\n",
    "sns.barplot(x = forest.feature_importances_, y = list(X.columns), ax = ax, edgecolor = 'black')\n",
    "plt.title('Random Forest Feature Importance');"
   ]
  },
  {
   "cell_type": "markdown",
   "metadata": {},
   "source": [
    "### Modeling (Cancer Data) ###"
   ]
  },
  {
   "cell_type": "code",
   "execution_count": 11,
   "metadata": {},
   "outputs": [
    {
     "data": {
      "text/plain": [
       "county                0\n",
       "avg_income            0\n",
       "analysis_value        0\n",
       "cost_income_ratio     0\n",
       "classifer             0\n",
       "urban_Urban           0\n",
       "total_population      0\n",
       "natural_change        0\n",
       "migration_change      0\n",
       "male_population       0\n",
       "male_65_and_over      0\n",
       "female_65_and_over    0\n",
       "dtype: int64"
      ]
     },
     "execution_count": 11,
     "metadata": {},
     "output_type": "execute_result"
    }
   ],
   "source": [
    "cancer_all_data.isnull().sum()"
   ]
  },
  {
   "cell_type": "code",
   "execution_count": 25,
   "metadata": {},
   "outputs": [
    {
     "data": {
      "text/plain": [
       "RandomForestClassifier(bootstrap=True, class_weight=None, criterion='gini',\n",
       "                       max_depth=6, max_features='auto', max_leaf_nodes=None,\n",
       "                       min_impurity_decrease=0.0, min_impurity_split=None,\n",
       "                       min_samples_leaf=5, min_samples_split=2,\n",
       "                       min_weight_fraction_leaf=0.0, n_estimators=1000,\n",
       "                       n_jobs=None, oob_score=False, random_state=None,\n",
       "                       verbose=0, warm_start=False)"
      ]
     },
     "execution_count": 25,
     "metadata": {},
     "output_type": "execute_result"
    }
   ],
   "source": [
    "# X = cancer_all_data.drop(columns = ['classifer','county','cost_income_ratio'])\n",
    "X = cancer_all_data.drop(columns = ['classifer','county','avg_income','analysis_value','cost_income_ratio'])\n",
    "y = cancer_all_data.classifer\n",
    "X_train, X_test, y_train, y_test = train_test_split(X, y, random_state = 42)\n",
    "\n",
    "forest = RandomForestClassifier(n_estimators = 1000, max_depth = 6, min_samples_leaf = 5)\n",
    "forest.fit(X_train, y_train)"
   ]
  },
  {
   "cell_type": "code",
   "execution_count": 26,
   "metadata": {},
   "outputs": [
    {
     "name": "stdout",
     "output_type": "stream",
     "text": [
      "0.8591549295774648\n"
     ]
    }
   ],
   "source": [
    "y_pred_train = forest.predict(X_train)\n",
    "print(metrics.accuracy_score(y_train, y_pred_train))"
   ]
  },
  {
   "cell_type": "code",
   "execution_count": 27,
   "metadata": {},
   "outputs": [
    {
     "name": "stdout",
     "output_type": "stream",
     "text": [
      "0.7083333333333334\n"
     ]
    }
   ],
   "source": [
    "y_pred = forest.predict(X_test)\n",
    "print(metrics.accuracy_score(y_test, y_pred))"
   ]
  },
  {
   "cell_type": "code",
   "execution_count": 15,
   "metadata": {},
   "outputs": [
    {
     "data": {
      "image/png": "[encoded data removed]",
      "text/plain": [
       "<Figure size 504x360 with 1 Axes>"
      ]
     },
     "metadata": {
      "needs_background": "light"
     },
     "output_type": "display_data"
    }
   ],
   "source": [
    "fig, ax = plt.subplots(figsize = (7,5))\n",
    "sns.barplot(x = forest.feature_importances_, y = list(X.columns), ax = ax, edgecolor = 'black')\n",
    "plt.title('Random Forest Feature Importance');"
   ]
  },
  {
   "cell_type": "code",
   "execution_count": null,
   "metadata": {},
   "outputs": [],
   "source": []
  }
 ],
 "metadata": {
  "kernelspec": {
   "display_name": "Python 3",
   "language": "python",
   "name": "python3"
  },
  "language_info": {
   "codemirror_mode": {
    "name": "ipython",
    "version": 3
   },
   "file_extension": ".py",
   "mimetype": "text/x-python",
   "name": "python",
   "nbconvert_exporter": "python",
   "pygments_lexer": "ipython3",
   "version": "3.7.4"
  }
 },
 "nbformat": 4,
 "nbformat_minor": 2
}
