{
 "cells": [
  {
   "cell_type": "code",
   "execution_count": 1,
   "metadata": {},
   "outputs": [],
   "source": [
    "import pandas as pd\n",
    "import matplotlib.pyplot as plt\n",
    "import seaborn as sns\n",
    "from sklearn.model_selection import train_test_split\n",
    "from sklearn.linear_model import LogisticRegression\n",
    "from sklearn.ensemble import RandomForestClassifier\n",
    "from sklearn.tree import DecisionTreeClassifier\n",
    "from sklearn import metrics\n",
    "import numpy as np\n",
    "\n",
    "import warnings\n",
    "warnings.filterwarnings('ignore')\n",
    "\n",
    "%matplotlib inline"
   ]
  },
  {
   "cell_type": "markdown",
   "metadata": {},
   "source": [
    "### Data Import and Clean ###"
   ]
  },
  {
   "cell_type": "code",
   "execution_count": 2,
   "metadata": {},
   "outputs": [],
   "source": [
    "# Heart Attack Data\n",
    "ha_costs_df = pd.read_csv('../data/mmd_heart_attack_data.csv')\n",
    "ha_costs_df = ha_costs_df.query('state == \"TENNESSEE\"')\n",
    "tn_ha_costs = ha_costs_df[['county','urban','analysis_value']]\n",
    "\n",
    "# Cancer Data\n",
    "cancer_costs_df = pd.read_csv('../data/mmd_cancer_data.csv')\n",
    "cancer_costs_df = cancer_costs_df.query('state == \"TENNESSEE\"')\n",
    "tn_cancer_costs = cancer_costs_df[['county','urban','analysis_value']]\n",
    "\n",
    "# Income data\n",
    "income_df = pd.read_csv('../data/irs_county_2016.csv')\n",
    "income_df = income_df.query('STATE == \"TN\"')\n",
    "column_list = ['STATE', 'COUNTYNAME', 'agi_stub', 'N1', 'mars1', 'MARS2', 'MARS4', 'N2', 'NUMDEP', 'ELDERLY', 'A00100', 'N02650', 'A02650', 'N02300', 'A02300']\n",
    "income_df = income_df[column_list]\n",
    "new_column_list = ['state', 'county', 'income_bucket', 'return_count', 'single_returns', 'joint_returns', 'head_of_house_returns', 'exemptions', 'dependents', 'elderly', 'agi', 'returns_with_total_inc','total_inc_amt', 'returns_with_unemployment', 'unemployment_comp']\n",
    "column_name_dict = dict(zip(column_list,new_column_list))\n",
    "income_df = income_df.rename(columns = column_name_dict)\n",
    "value_key = income_df.income_bucket.unique().tolist()\n",
    "value_list = ['Total', 'Under $1', 'Between 1 and $10,000', 'Between 10,000 and $25,000','Between 25,000 and $50,000', 'Between 50,000 and $75,000', 'Between 75,000 and $100,000', 'Between 100,000 and $200,000', '$200,000 or more'\n",
    "        ]\n",
    "income_dict = dict(zip(value_key,value_list[1:]))\n",
    "income_df.income_bucket = income_df.income_bucket.replace(income_dict)\n",
    "income_county_agg = income_df.groupby(['county']).sum()\n",
    "income_county_agg = income_county_agg.reset_index()\n",
    "income_county_agg['avg_income'] = round(income_county_agg.total_inc_amt * 1000 / income_county_agg.return_count)\n",
    "\n",
    "tn_ha_cost2 = pd.merge(income_county_agg[['county','avg_income']], tn_ha_costs, on=\"county\", how = 'left')\n",
    "tn_ha_cost2['cost_income_ratio'] = tn_ha_cost2.analysis_value / tn_ha_cost2.avg_income\n",
    "tn_ha_cost2['classifer'] = 0\n",
    "tn_ha_cost2.loc[tn_ha_cost2.cost_income_ratio > tn_ha_cost2.cost_income_ratio.mean(),'classifer'] = 1\n",
    "tn_ha_cost2 = pd.get_dummies(tn_ha_cost2, columns = ['urban'], drop_first = True)\n",
    "\n",
    "tn_cancer_cost2 = pd.merge(income_county_agg[['county','avg_income']], tn_cancer_costs, on=\"county\", how = 'left')\n",
    "tn_cancer_cost2['cost_income_ratio'] = tn_cancer_cost2.analysis_value / tn_cancer_cost2.avg_income\n",
    "tn_cancer_cost2['classifer'] = 0\n",
    "tn_cancer_cost2.loc[tn_cancer_cost2.cost_income_ratio > tn_cancer_cost2.cost_income_ratio.mean(),'classifer'] = 1\n",
    "tn_cancer_cost2 = pd.get_dummies(tn_cancer_cost2, columns = ['urban'], drop_first = True)"
   ]
  },
  {
   "cell_type": "code",
   "execution_count": 3,
   "metadata": {},
   "outputs": [],
   "source": [
    "# other downloaded data\n",
    "population = pd.read_csv('../Data/PEP_2016_PEPANNRES_with_ann.csv',header=[0,1])\n",
    "population = population.iloc[1:,[2,-1]]\n",
    "population.columns = ['county','total_population']\n",
    "population_change = pd.read_csv('../Data/PEP_2016_PEPTCOMP_with_ann.csv',header=[0,1])\n",
    "population_change = population_change.iloc[1:,[2,4,7]]\n",
    "population_change.columns = ['county','natural_change','migration_change']\n",
    "age_sex = pd.read_csv('../Data/PEP_2016_PEPAGESEX_with_ann.csv',skiprows = 0, header=1)\n",
    "age_sex = age_sex[['Geography','Population Estimate (as of July 1) - 2016 - Male; Total',\n",
    "                   'Population Estimate (as of July 1) - 2016 - Both Sexes; 65 years and over',\n",
    "                  'Population Estimate (as of July 1) - 2016 - Male; 65 years and over']]\n",
    "age_sex.columns = ['county','male_population','male_65_and_over','female_65_and_over']\n",
    "\n",
    "# irs_health data from Seth's code\n",
    "irs_health = pd.read_csv('../Data/irs_2016_health.csv',header=0,nrows=95)\n",
    "irs_health['not_insured_per_capita'] = irs_health.health_care_payments/irs_health.exemptions\n",
    "irs_health['medical_expense_deductions_per_capita'] = irs_health.Medical_Dental_expenses_deductions/irs_health.exemptions\n",
    "irs_health = irs_health[['county','not_insured_per_capita','medical_expense_deductions_per_capita']]\n",
    "\n",
    "# Merge all other data\n",
    "other_data = pd.merge(population,population_change,on='county',how='outer')\n",
    "other_data = pd.merge(other_data, age_sex, on='county', how='left')\n",
    "other_data.county = other_data.county.str[0:-11]\n",
    "other_data = pd.merge(other_data, irs_health, on='county',how='left')"
   ]
  },
  {
   "cell_type": "code",
   "execution_count": 4,
   "metadata": {},
   "outputs": [],
   "source": [
    "ha_all_data = pd.merge(tn_ha_cost2,other_data,on='county',how='inner')\n",
    "ha_all_data = ha_all_data.dropna()\n",
    "cancer_all_data = pd.merge(tn_cancer_cost2,other_data,on='county',how='inner')"
   ]
  },
  {
   "cell_type": "code",
   "execution_count": 5,
   "metadata": {},
   "outputs": [
    {
     "data": {
      "text/html": [
       "<div>\n",
       "<style scoped>\n",
       "    .dataframe tbody tr th:only-of-type {\n",
       "        vertical-align: middle;\n",
       "    }\n",
       "\n",
       "    .dataframe tbody tr th {\n",
       "        vertical-align: top;\n",
       "    }\n",
       "\n",
       "    .dataframe thead th {\n",
       "        text-align: right;\n",
       "    }\n",
       "</style>\n",
       "<table border=\"1\" class=\"dataframe\">\n",
       "  <thead>\n",
       "    <tr style=\"text-align: right;\">\n",
       "      <th></th>\n",
       "      <th>county</th>\n",
       "      <th>avg_income</th>\n",
       "      <th>analysis_value</th>\n",
       "      <th>cost_income_ratio</th>\n",
       "      <th>classifer</th>\n",
       "      <th>urban_Urban</th>\n",
       "      <th>total_population</th>\n",
       "      <th>natural_change</th>\n",
       "      <th>migration_change</th>\n",
       "      <th>male_population</th>\n",
       "      <th>male_65_and_over</th>\n",
       "      <th>female_65_and_over</th>\n",
       "      <th>not_insured_per_capita</th>\n",
       "      <th>medical_expense_deductions_per_capita</th>\n",
       "    </tr>\n",
       "  </thead>\n",
       "  <tbody>\n",
       "    <tr>\n",
       "      <td>92</td>\n",
       "      <td>White County</td>\n",
       "      <td>40297.0</td>\n",
       "      <td>40717.0</td>\n",
       "      <td>1.010423</td>\n",
       "      <td>1</td>\n",
       "      <td>0</td>\n",
       "      <td>26653</td>\n",
       "      <td>-378</td>\n",
       "      <td>1136</td>\n",
       "      <td>13087</td>\n",
       "      <td>5311</td>\n",
       "      <td>2381</td>\n",
       "      <td>0.016644</td>\n",
       "      <td>0.017544</td>\n",
       "    </tr>\n",
       "    <tr>\n",
       "      <td>93</td>\n",
       "      <td>Williamson County</td>\n",
       "      <td>129769.0</td>\n",
       "      <td>61541.0</td>\n",
       "      <td>0.474235</td>\n",
       "      <td>0</td>\n",
       "      <td>1</td>\n",
       "      <td>219107</td>\n",
       "      <td>6602</td>\n",
       "      <td>28729</td>\n",
       "      <td>107110</td>\n",
       "      <td>27316</td>\n",
       "      <td>12391</td>\n",
       "      <td>0.008841</td>\n",
       "      <td>0.030679</td>\n",
       "    </tr>\n",
       "    <tr>\n",
       "      <td>94</td>\n",
       "      <td>Wilson County</td>\n",
       "      <td>67411.0</td>\n",
       "      <td>52387.0</td>\n",
       "      <td>0.777128</td>\n",
       "      <td>0</td>\n",
       "      <td>1</td>\n",
       "      <td>132781</td>\n",
       "      <td>2729</td>\n",
       "      <td>15548</td>\n",
       "      <td>65080</td>\n",
       "      <td>20180</td>\n",
       "      <td>9234</td>\n",
       "      <td>0.013699</td>\n",
       "      <td>0.027319</td>\n",
       "    </tr>\n",
       "  </tbody>\n",
       "</table>\n",
       "</div>"
      ],
      "text/plain": [
       "               county  avg_income  analysis_value  cost_income_ratio  \\\n",
       "92       White County     40297.0         40717.0           1.010423   \n",
       "93  Williamson County    129769.0         61541.0           0.474235   \n",
       "94      Wilson County     67411.0         52387.0           0.777128   \n",
       "\n",
       "    classifer  urban_Urban  total_population  natural_change  \\\n",
       "92          1            0             26653            -378   \n",
       "93          0            1            219107            6602   \n",
       "94          0            1            132781            2729   \n",
       "\n",
       "    migration_change  male_population  male_65_and_over  female_65_and_over  \\\n",
       "92              1136            13087              5311                2381   \n",
       "93             28729           107110             27316               12391   \n",
       "94             15548            65080             20180                9234   \n",
       "\n",
       "    not_insured_per_capita  medical_expense_deductions_per_capita  \n",
       "92                0.016644                               0.017544  \n",
       "93                0.008841                               0.030679  \n",
       "94                0.013699                               0.027319  "
      ]
     },
     "execution_count": 5,
     "metadata": {},
     "output_type": "execute_result"
    }
   ],
   "source": [
    "ha_all_data.tail(3)"
   ]
  },
  {
   "cell_type": "markdown",
   "metadata": {},
   "source": [
    "### Modeling (Heart Attack Data) ###"
   ]
  },
  {
   "cell_type": "code",
   "execution_count": 6,
   "metadata": {},
   "outputs": [
    {
     "data": {
      "text/plain": [
       "county                                   0\n",
       "avg_income                               0\n",
       "analysis_value                           0\n",
       "cost_income_ratio                        0\n",
       "classifer                                0\n",
       "urban_Urban                              0\n",
       "total_population                         0\n",
       "natural_change                           0\n",
       "migration_change                         0\n",
       "male_population                          0\n",
       "male_65_and_over                         0\n",
       "female_65_and_over                       0\n",
       "not_insured_per_capita                   0\n",
       "medical_expense_deductions_per_capita    0\n",
       "dtype: int64"
      ]
     },
     "execution_count": 6,
     "metadata": {},
     "output_type": "execute_result"
    }
   ],
   "source": [
    "ha_all_data.isnull().sum()"
   ]
  },
  {
   "cell_type": "code",
   "execution_count": 7,
   "metadata": {},
   "outputs": [
    {
     "data": {
      "text/plain": [
       "RandomForestClassifier(bootstrap=True, class_weight=None, criterion='gini',\n",
       "                       max_depth=5, max_features='auto', max_leaf_nodes=None,\n",
       "                       min_impurity_decrease=0.0, min_impurity_split=None,\n",
       "                       min_samples_leaf=20, min_samples_split=2,\n",
       "                       min_weight_fraction_leaf=0.0, n_estimators=1000,\n",
       "                       n_jobs=None, oob_score=False, random_state=None,\n",
       "                       verbose=0, warm_start=False)"
      ]
     },
     "execution_count": 7,
     "metadata": {},
     "output_type": "execute_result"
    }
   ],
   "source": [
    "# X = ha_all_data.drop(columns = ['classifer','county','cost_income_ratio'])\n",
    "X = ha_all_data.drop(columns = ['classifer','county','avg_income','analysis_value','cost_income_ratio'])\n",
    "y = ha_all_data.classifer\n",
    "X_train, X_test, y_train, y_test = train_test_split(X, y, random_state = 42)\n",
    "\n",
    "forest = RandomForestClassifier(n_estimators = 1000, max_depth = 5, min_samples_leaf = 20)\n",
    "forest.fit(X_train, y_train)"
   ]
  },
  {
   "cell_type": "code",
   "execution_count": 8,
   "metadata": {},
   "outputs": [
    {
     "name": "stdout",
     "output_type": "stream",
     "text": [
      "0.7352941176470589\n"
     ]
    }
   ],
   "source": [
    "y_pred_train = forest.predict(X_train)\n",
    "print(metrics.accuracy_score(y_train, y_pred_train))"
   ]
  },
  {
   "cell_type": "code",
   "execution_count": 9,
   "metadata": {},
   "outputs": [
    {
     "name": "stdout",
     "output_type": "stream",
     "text": [
      "0.7391304347826086\n"
     ]
    }
   ],
   "source": [
    "y_pred = forest.predict(X_test)\n",
    "print(metrics.accuracy_score(y_test, y_pred))"
   ]
  },
  {
   "cell_type": "code",
   "execution_count": 10,
   "metadata": {},
   "outputs": [
    {
     "data": {
      "image/png": "[encoded data removed]",
      "text/plain": [
       "<Figure size 504x360 with 1 Axes>"
      ]
     },
     "metadata": {
      "needs_background": "light"
     },
     "output_type": "display_data"
    }
   ],
   "source": [
    "fig, ax = plt.subplots(figsize = (7,5))\n",
    "sns.barplot(x = forest.feature_importances_, y = list(X.columns), ax = ax, edgecolor = 'black')\n",
    "plt.title('Heart Attacks cost/income Prediction\\nRandom Forest Feature Importance');"
   ]
  },
  {
   "cell_type": "markdown",
   "metadata": {},
   "source": [
    "### Modeling (Cancer Data) ###"
   ]
  },
  {
   "cell_type": "code",
   "execution_count": 11,
   "metadata": {},
   "outputs": [
    {
     "data": {
      "text/plain": [
       "county                                   0\n",
       "avg_income                               0\n",
       "analysis_value                           0\n",
       "cost_income_ratio                        0\n",
       "classifer                                0\n",
       "urban_Urban                              0\n",
       "total_population                         0\n",
       "natural_change                           0\n",
       "migration_change                         0\n",
       "male_population                          0\n",
       "male_65_and_over                         0\n",
       "female_65_and_over                       0\n",
       "not_insured_per_capita                   0\n",
       "medical_expense_deductions_per_capita    0\n",
       "dtype: int64"
      ]
     },
     "execution_count": 11,
     "metadata": {},
     "output_type": "execute_result"
    }
   ],
   "source": [
    "cancer_all_data.isnull().sum()"
   ]
  },
  {
   "cell_type": "code",
   "execution_count": 12,
   "metadata": {},
   "outputs": [
    {
     "data": {
      "text/plain": [
       "RandomForestClassifier(bootstrap=True, class_weight=None, criterion='gini',\n",
       "                       max_depth=5, max_features='auto', max_leaf_nodes=None,\n",
       "                       min_impurity_decrease=0.0, min_impurity_split=None,\n",
       "                       min_samples_leaf=20, min_samples_split=2,\n",
       "                       min_weight_fraction_leaf=0.0, n_estimators=1000,\n",
       "                       n_jobs=None, oob_score=False, random_state=None,\n",
       "                       verbose=0, warm_start=False)"
      ]
     },
     "execution_count": 12,
     "metadata": {},
     "output_type": "execute_result"
    }
   ],
   "source": [
    "# X = cancer_all_data.drop(columns = ['classifer','county','cost_income_ratio'])\n",
    "X = cancer_all_data.drop(columns = ['classifer','county','avg_income','analysis_value','cost_income_ratio'])\n",
    "y = cancer_all_data.classifer\n",
    "X_train, X_test, y_train, y_test = train_test_split(X, y, random_state = 42)\n",
    "\n",
    "forest = RandomForestClassifier(n_estimators = 1000, max_depth = 5, min_samples_leaf = 20)\n",
    "forest.fit(X_train, y_train)"
   ]
  },
  {
   "cell_type": "code",
   "execution_count": 13,
   "metadata": {},
   "outputs": [
    {
     "name": "stdout",
     "output_type": "stream",
     "text": [
      "0.7605633802816901\n"
     ]
    }
   ],
   "source": [
    "y_pred_train = forest.predict(X_train)\n",
    "print(metrics.accuracy_score(y_train, y_pred_train))"
   ]
  },
  {
   "cell_type": "code",
   "execution_count": 14,
   "metadata": {},
   "outputs": [
    {
     "name": "stdout",
     "output_type": "stream",
     "text": [
      "0.8333333333333334\n"
     ]
    }
   ],
   "source": [
    "y_pred = forest.predict(X_test)\n",
    "print(metrics.accuracy_score(y_test, y_pred))"
   ]
  },
  {
   "cell_type": "code",
   "execution_count": 15,
   "metadata": {},
   "outputs": [
    {
     "data": {
      "image/png": "[encoded data removed]",
      "text/plain": [
       "<Figure size 504x360 with 1 Axes>"
      ]
     },
     "metadata": {
      "needs_background": "light"
     },
     "output_type": "display_data"
    }
   ],
   "source": [
    "fig, ax = plt.subplots(figsize = (7,5))\n",
    "sns.barplot(x = forest.feature_importances_, y = list(X.columns), ax = ax, edgecolor = 'black')\n",
    "plt.title('Cancers cost/income prediction\\nRandom Forest Feature Importance');"
   ]
  },
  {
   "cell_type": "code",
   "execution_count": null,
   "metadata": {},
   "outputs": [],
   "source": []
  }
 ],
 "metadata": {
  "kernelspec": {
   "display_name": "Python 3",
   "language": "python",
   "name": "python3"
  },
  "language_info": {
   "codemirror_mode": {
    "name": "ipython",
    "version": 3
   },
   "file_extension": ".py",
   "mimetype": "text/x-python",
   "name": "python",
   "nbconvert_exporter": "python",
   "pygments_lexer": "ipython3",
   "version": "3.7.4"
  }
 },
 "nbformat": 4,
 "nbformat_minor": 2
}
