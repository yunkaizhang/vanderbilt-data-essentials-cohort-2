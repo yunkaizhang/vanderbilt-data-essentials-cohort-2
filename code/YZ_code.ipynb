{
 "cells": [
  {
   "cell_type": "markdown",
   "metadata": {},
   "source": [
    "## Week 1 and Week 2 code##"
   ]
  },
  {
   "cell_type": "code",
   "execution_count": 79,
   "metadata": {},
   "outputs": [],
   "source": [
    "import pandas as pd"
   ]
  },
  {
   "cell_type": "markdown",
   "metadata": {},
   "source": [
    "### Head Attack Database ###"
   ]
  },
  {
   "cell_type": "code",
   "execution_count": 80,
   "metadata": {},
   "outputs": [],
   "source": [
    "ha_costs_df = pd.read_csv('../data/mmd_heart_attack_data.csv')"
   ]
  },
  {
   "cell_type": "code",
   "execution_count": 81,
   "metadata": {},
   "outputs": [
    {
     "data": {
      "text/html": [
       "<div>\n",
       "<style scoped>\n",
       "    .dataframe tbody tr th:only-of-type {\n",
       "        vertical-align: middle;\n",
       "    }\n",
       "\n",
       "    .dataframe tbody tr th {\n",
       "        vertical-align: top;\n",
       "    }\n",
       "\n",
       "    .dataframe thead th {\n",
       "        text-align: right;\n",
       "    }\n",
       "</style>\n",
       "<table border=\"1\" class=\"dataframe\">\n",
       "  <thead>\n",
       "    <tr style=\"text-align: right;\">\n",
       "      <th></th>\n",
       "      <th>year</th>\n",
       "      <th>geography</th>\n",
       "      <th>measure</th>\n",
       "      <th>adjustment</th>\n",
       "      <th>analysis</th>\n",
       "      <th>domain</th>\n",
       "      <th>condition</th>\n",
       "      <th>primary_sex</th>\n",
       "      <th>primary_age</th>\n",
       "      <th>primary_dual</th>\n",
       "      <th>fips</th>\n",
       "      <th>county</th>\n",
       "      <th>state</th>\n",
       "      <th>urban</th>\n",
       "      <th>primary_race</th>\n",
       "      <th>primary_denominator</th>\n",
       "      <th>analysis_value</th>\n",
       "    </tr>\n",
       "  </thead>\n",
       "  <tbody>\n",
       "    <tr>\n",
       "      <th>0</th>\n",
       "      <td>2017</td>\n",
       "      <td>County</td>\n",
       "      <td>Average total cost</td>\n",
       "      <td>Unsmoothed actual</td>\n",
       "      <td>Base measure</td>\n",
       "      <td>Primary chronic conditions</td>\n",
       "      <td>Acute myocardial infarction</td>\n",
       "      <td>All</td>\n",
       "      <td>All</td>\n",
       "      <td>Dual &amp; non-dual</td>\n",
       "      <td>1001</td>\n",
       "      <td>Autauga County</td>\n",
       "      <td>ALABAMA</td>\n",
       "      <td>Urban</td>\n",
       "      <td>All</td>\n",
       "      <td>undefined</td>\n",
       "      <td>40470</td>\n",
       "    </tr>\n",
       "    <tr>\n",
       "      <th>1</th>\n",
       "      <td>2017</td>\n",
       "      <td>County</td>\n",
       "      <td>Average total cost</td>\n",
       "      <td>Unsmoothed actual</td>\n",
       "      <td>Base measure</td>\n",
       "      <td>Primary chronic conditions</td>\n",
       "      <td>Acute myocardial infarction</td>\n",
       "      <td>All</td>\n",
       "      <td>All</td>\n",
       "      <td>Dual &amp; non-dual</td>\n",
       "      <td>1003</td>\n",
       "      <td>Baldwin County</td>\n",
       "      <td>ALABAMA</td>\n",
       "      <td>Rural</td>\n",
       "      <td>All</td>\n",
       "      <td>undefined</td>\n",
       "      <td>36615</td>\n",
       "    </tr>\n",
       "    <tr>\n",
       "      <th>2</th>\n",
       "      <td>2017</td>\n",
       "      <td>County</td>\n",
       "      <td>Average total cost</td>\n",
       "      <td>Unsmoothed actual</td>\n",
       "      <td>Base measure</td>\n",
       "      <td>Primary chronic conditions</td>\n",
       "      <td>Acute myocardial infarction</td>\n",
       "      <td>All</td>\n",
       "      <td>All</td>\n",
       "      <td>Dual &amp; non-dual</td>\n",
       "      <td>1005</td>\n",
       "      <td>Barbour County</td>\n",
       "      <td>ALABAMA</td>\n",
       "      <td>Rural</td>\n",
       "      <td>All</td>\n",
       "      <td>undefined</td>\n",
       "      <td>46509</td>\n",
       "    </tr>\n",
       "    <tr>\n",
       "      <th>3</th>\n",
       "      <td>2017</td>\n",
       "      <td>County</td>\n",
       "      <td>Average total cost</td>\n",
       "      <td>Unsmoothed actual</td>\n",
       "      <td>Base measure</td>\n",
       "      <td>Primary chronic conditions</td>\n",
       "      <td>Acute myocardial infarction</td>\n",
       "      <td>All</td>\n",
       "      <td>All</td>\n",
       "      <td>Dual &amp; non-dual</td>\n",
       "      <td>1007</td>\n",
       "      <td>Bibb County</td>\n",
       "      <td>ALABAMA</td>\n",
       "      <td>Urban</td>\n",
       "      <td>All</td>\n",
       "      <td>undefined</td>\n",
       "      <td>42949</td>\n",
       "    </tr>\n",
       "    <tr>\n",
       "      <th>4</th>\n",
       "      <td>2017</td>\n",
       "      <td>County</td>\n",
       "      <td>Average total cost</td>\n",
       "      <td>Unsmoothed actual</td>\n",
       "      <td>Base measure</td>\n",
       "      <td>Primary chronic conditions</td>\n",
       "      <td>Acute myocardial infarction</td>\n",
       "      <td>All</td>\n",
       "      <td>All</td>\n",
       "      <td>Dual &amp; non-dual</td>\n",
       "      <td>1009</td>\n",
       "      <td>Blount County</td>\n",
       "      <td>ALABAMA</td>\n",
       "      <td>Urban</td>\n",
       "      <td>All</td>\n",
       "      <td>undefined</td>\n",
       "      <td>50067</td>\n",
       "    </tr>\n",
       "  </tbody>\n",
       "</table>\n",
       "</div>"
      ],
      "text/plain": [
       "   year geography             measure         adjustment      analysis  \\\n",
       "0  2017    County  Average total cost  Unsmoothed actual  Base measure   \n",
       "1  2017    County  Average total cost  Unsmoothed actual  Base measure   \n",
       "2  2017    County  Average total cost  Unsmoothed actual  Base measure   \n",
       "3  2017    County  Average total cost  Unsmoothed actual  Base measure   \n",
       "4  2017    County  Average total cost  Unsmoothed actual  Base measure   \n",
       "\n",
       "                       domain                    condition primary_sex  \\\n",
       "0  Primary chronic conditions  Acute myocardial infarction         All   \n",
       "1  Primary chronic conditions  Acute myocardial infarction         All   \n",
       "2  Primary chronic conditions  Acute myocardial infarction         All   \n",
       "3  Primary chronic conditions  Acute myocardial infarction         All   \n",
       "4  Primary chronic conditions  Acute myocardial infarction         All   \n",
       "\n",
       "  primary_age     primary_dual  fips          county    state  urban  \\\n",
       "0         All  Dual & non-dual  1001  Autauga County  ALABAMA  Urban   \n",
       "1         All  Dual & non-dual  1003  Baldwin County  ALABAMA  Rural   \n",
       "2         All  Dual & non-dual  1005  Barbour County  ALABAMA  Rural   \n",
       "3         All  Dual & non-dual  1007     Bibb County  ALABAMA  Urban   \n",
       "4         All  Dual & non-dual  1009   Blount County  ALABAMA  Urban   \n",
       "\n",
       "  primary_race primary_denominator  analysis_value  \n",
       "0          All           undefined           40470  \n",
       "1          All           undefined           36615  \n",
       "2          All           undefined           46509  \n",
       "3          All           undefined           42949  \n",
       "4          All           undefined           50067  "
      ]
     },
     "execution_count": 81,
     "metadata": {},
     "output_type": "execute_result"
    }
   ],
   "source": [
    "# Examine the first 5 rows and the last five rows of the TN heart attack data.\n",
    "\n",
    "ha_costs_df.head(5)"
   ]
  },
  {
   "cell_type": "code",
   "execution_count": 82,
   "metadata": {},
   "outputs": [
    {
     "data": {
      "text/html": [
       "<div>\n",
       "<style scoped>\n",
       "    .dataframe tbody tr th:only-of-type {\n",
       "        vertical-align: middle;\n",
       "    }\n",
       "\n",
       "    .dataframe tbody tr th {\n",
       "        vertical-align: top;\n",
       "    }\n",
       "\n",
       "    .dataframe thead th {\n",
       "        text-align: right;\n",
       "    }\n",
       "</style>\n",
       "<table border=\"1\" class=\"dataframe\">\n",
       "  <thead>\n",
       "    <tr style=\"text-align: right;\">\n",
       "      <th></th>\n",
       "      <th>year</th>\n",
       "      <th>geography</th>\n",
       "      <th>measure</th>\n",
       "      <th>adjustment</th>\n",
       "      <th>analysis</th>\n",
       "      <th>domain</th>\n",
       "      <th>condition</th>\n",
       "      <th>primary_sex</th>\n",
       "      <th>primary_age</th>\n",
       "      <th>primary_dual</th>\n",
       "      <th>fips</th>\n",
       "      <th>county</th>\n",
       "      <th>state</th>\n",
       "      <th>urban</th>\n",
       "      <th>primary_race</th>\n",
       "      <th>primary_denominator</th>\n",
       "      <th>analysis_value</th>\n",
       "    </tr>\n",
       "  </thead>\n",
       "  <tbody>\n",
       "    <tr>\n",
       "      <th>2651</th>\n",
       "      <td>2017</td>\n",
       "      <td>County</td>\n",
       "      <td>Average total cost</td>\n",
       "      <td>Unsmoothed actual</td>\n",
       "      <td>Base measure</td>\n",
       "      <td>Primary chronic conditions</td>\n",
       "      <td>Acute myocardial infarction</td>\n",
       "      <td>All</td>\n",
       "      <td>All</td>\n",
       "      <td>Dual &amp; non-dual</td>\n",
       "      <td>72097</td>\n",
       "      <td>Mayaguez Municipio</td>\n",
       "      <td>PUERTO RICO</td>\n",
       "      <td>Urban</td>\n",
       "      <td>All</td>\n",
       "      <td>undefined</td>\n",
       "      <td>28128</td>\n",
       "    </tr>\n",
       "    <tr>\n",
       "      <th>2652</th>\n",
       "      <td>2017</td>\n",
       "      <td>County</td>\n",
       "      <td>Average total cost</td>\n",
       "      <td>Unsmoothed actual</td>\n",
       "      <td>Base measure</td>\n",
       "      <td>Primary chronic conditions</td>\n",
       "      <td>Acute myocardial infarction</td>\n",
       "      <td>All</td>\n",
       "      <td>All</td>\n",
       "      <td>Dual &amp; non-dual</td>\n",
       "      <td>72113</td>\n",
       "      <td>Ponce Municipio</td>\n",
       "      <td>PUERTO RICO</td>\n",
       "      <td>Urban</td>\n",
       "      <td>All</td>\n",
       "      <td>undefined</td>\n",
       "      <td>26403</td>\n",
       "    </tr>\n",
       "    <tr>\n",
       "      <th>2653</th>\n",
       "      <td>2017</td>\n",
       "      <td>County</td>\n",
       "      <td>Average total cost</td>\n",
       "      <td>Unsmoothed actual</td>\n",
       "      <td>Base measure</td>\n",
       "      <td>Primary chronic conditions</td>\n",
       "      <td>Acute myocardial infarction</td>\n",
       "      <td>All</td>\n",
       "      <td>All</td>\n",
       "      <td>Dual &amp; non-dual</td>\n",
       "      <td>72125</td>\n",
       "      <td>San German Municipio</td>\n",
       "      <td>PUERTO RICO</td>\n",
       "      <td>Urban</td>\n",
       "      <td>All</td>\n",
       "      <td>undefined</td>\n",
       "      <td>26398</td>\n",
       "    </tr>\n",
       "    <tr>\n",
       "      <th>2654</th>\n",
       "      <td>2017</td>\n",
       "      <td>County</td>\n",
       "      <td>Average total cost</td>\n",
       "      <td>Unsmoothed actual</td>\n",
       "      <td>Base measure</td>\n",
       "      <td>Primary chronic conditions</td>\n",
       "      <td>Acute myocardial infarction</td>\n",
       "      <td>All</td>\n",
       "      <td>All</td>\n",
       "      <td>Dual &amp; non-dual</td>\n",
       "      <td>72127</td>\n",
       "      <td>San Juan Municipio</td>\n",
       "      <td>PUERTO RICO</td>\n",
       "      <td>Urban</td>\n",
       "      <td>All</td>\n",
       "      <td>undefined</td>\n",
       "      <td>36599</td>\n",
       "    </tr>\n",
       "    <tr>\n",
       "      <th>2655</th>\n",
       "      <td>2017</td>\n",
       "      <td>County</td>\n",
       "      <td>Average total cost</td>\n",
       "      <td>Unsmoothed actual</td>\n",
       "      <td>Base measure</td>\n",
       "      <td>Primary chronic conditions</td>\n",
       "      <td>Acute myocardial infarction</td>\n",
       "      <td>All</td>\n",
       "      <td>All</td>\n",
       "      <td>Dual &amp; non-dual</td>\n",
       "      <td>72139</td>\n",
       "      <td>Trujillo Alto Municipio</td>\n",
       "      <td>PUERTO RICO</td>\n",
       "      <td>Urban</td>\n",
       "      <td>All</td>\n",
       "      <td>undefined</td>\n",
       "      <td>26676</td>\n",
       "    </tr>\n",
       "  </tbody>\n",
       "</table>\n",
       "</div>"
      ],
      "text/plain": [
       "      year geography             measure         adjustment      analysis  \\\n",
       "2651  2017    County  Average total cost  Unsmoothed actual  Base measure   \n",
       "2652  2017    County  Average total cost  Unsmoothed actual  Base measure   \n",
       "2653  2017    County  Average total cost  Unsmoothed actual  Base measure   \n",
       "2654  2017    County  Average total cost  Unsmoothed actual  Base measure   \n",
       "2655  2017    County  Average total cost  Unsmoothed actual  Base measure   \n",
       "\n",
       "                          domain                    condition primary_sex  \\\n",
       "2651  Primary chronic conditions  Acute myocardial infarction         All   \n",
       "2652  Primary chronic conditions  Acute myocardial infarction         All   \n",
       "2653  Primary chronic conditions  Acute myocardial infarction         All   \n",
       "2654  Primary chronic conditions  Acute myocardial infarction         All   \n",
       "2655  Primary chronic conditions  Acute myocardial infarction         All   \n",
       "\n",
       "     primary_age     primary_dual   fips                   county  \\\n",
       "2651         All  Dual & non-dual  72097       Mayaguez Municipio   \n",
       "2652         All  Dual & non-dual  72113          Ponce Municipio   \n",
       "2653         All  Dual & non-dual  72125     San German Municipio   \n",
       "2654         All  Dual & non-dual  72127       San Juan Municipio   \n",
       "2655         All  Dual & non-dual  72139  Trujillo Alto Municipio   \n",
       "\n",
       "            state  urban primary_race primary_denominator  analysis_value  \n",
       "2651  PUERTO RICO  Urban          All           undefined           28128  \n",
       "2652  PUERTO RICO  Urban          All           undefined           26403  \n",
       "2653  PUERTO RICO  Urban          All           undefined           26398  \n",
       "2654  PUERTO RICO  Urban          All           undefined           36599  \n",
       "2655  PUERTO RICO  Urban          All           undefined           26676  "
      ]
     },
     "execution_count": 82,
     "metadata": {},
     "output_type": "execute_result"
    }
   ],
   "source": [
    "ha_costs_df.tail()"
   ]
  },
  {
   "cell_type": "code",
   "execution_count": 83,
   "metadata": {},
   "outputs": [],
   "source": [
    "# Keep only the rows where facilities are in TN.\n",
    "# ha_costs_df.loc[ha_costs_df['state'] == 'TENNESSEE']\n",
    "ha_costs_df = ha_costs_df.query('state == \"TENNESSEE\"')"
   ]
  },
  {
   "cell_type": "code",
   "execution_count": 84,
   "metadata": {},
   "outputs": [
    {
     "data": {
      "text/plain": [
       "(91, 17)"
      ]
     },
     "execution_count": 84,
     "metadata": {},
     "output_type": "execute_result"
    }
   ],
   "source": [
    "ha_costs_df.shape"
   ]
  },
  {
   "cell_type": "code",
   "execution_count": 85,
   "metadata": {},
   "outputs": [
    {
     "data": {
      "text/plain": [
       "91"
      ]
     },
     "execution_count": 85,
     "metadata": {},
     "output_type": "execute_result"
    }
   ],
   "source": [
    "ha_costs_df['county'].nunique()"
   ]
  },
  {
   "cell_type": "code",
   "execution_count": 86,
   "metadata": {},
   "outputs": [
    {
     "data": {
      "text/plain": [
       "Rural    53\n",
       "Urban    38\n",
       "Name: urban, dtype: int64"
      ]
     },
     "execution_count": 86,
     "metadata": {},
     "output_type": "execute_result"
    }
   ],
   "source": [
    "ha_costs_df['urban'].value_counts()"
   ]
  },
  {
   "cell_type": "code",
   "execution_count": 87,
   "metadata": {},
   "outputs": [
    {
     "data": {
      "text/plain": [
       "count       91.000000\n",
       "mean     45762.989011\n",
       "std       6574.670462\n",
       "min      30831.000000\n",
       "25%      41105.500000\n",
       "50%      45384.000000\n",
       "75%      49698.500000\n",
       "max      62641.000000\n",
       "Name: analysis_value, dtype: float64"
      ]
     },
     "execution_count": 87,
     "metadata": {},
     "output_type": "execute_result"
    }
   ],
   "source": [
    "ha_costs_df['analysis_value'].describe()"
   ]
  },
  {
   "cell_type": "code",
   "execution_count": 88,
   "metadata": {},
   "outputs": [
    {
     "data": {
      "text/html": [
       "<div>\n",
       "<style scoped>\n",
       "    .dataframe tbody tr th:only-of-type {\n",
       "        vertical-align: middle;\n",
       "    }\n",
       "\n",
       "    .dataframe tbody tr th {\n",
       "        vertical-align: top;\n",
       "    }\n",
       "\n",
       "    .dataframe thead th {\n",
       "        text-align: right;\n",
       "    }\n",
       "</style>\n",
       "<table border=\"1\" class=\"dataframe\">\n",
       "  <thead>\n",
       "    <tr style=\"text-align: right;\">\n",
       "      <th></th>\n",
       "      <th>count</th>\n",
       "      <th>mean</th>\n",
       "      <th>std</th>\n",
       "      <th>min</th>\n",
       "      <th>25%</th>\n",
       "      <th>50%</th>\n",
       "      <th>75%</th>\n",
       "      <th>max</th>\n",
       "    </tr>\n",
       "    <tr>\n",
       "      <th>urban</th>\n",
       "      <th></th>\n",
       "      <th></th>\n",
       "      <th></th>\n",
       "      <th></th>\n",
       "      <th></th>\n",
       "      <th></th>\n",
       "      <th></th>\n",
       "      <th></th>\n",
       "    </tr>\n",
       "  </thead>\n",
       "  <tbody>\n",
       "    <tr>\n",
       "      <th>Rural</th>\n",
       "      <td>53.0</td>\n",
       "      <td>45773.075472</td>\n",
       "      <td>6232.724885</td>\n",
       "      <td>30831.0</td>\n",
       "      <td>41240.00</td>\n",
       "      <td>45384.0</td>\n",
       "      <td>48998.0</td>\n",
       "      <td>62641.0</td>\n",
       "    </tr>\n",
       "    <tr>\n",
       "      <th>Urban</th>\n",
       "      <td>38.0</td>\n",
       "      <td>45748.921053</td>\n",
       "      <td>7109.788921</td>\n",
       "      <td>32279.0</td>\n",
       "      <td>40452.75</td>\n",
       "      <td>45496.5</td>\n",
       "      <td>50734.5</td>\n",
       "      <td>61541.0</td>\n",
       "    </tr>\n",
       "  </tbody>\n",
       "</table>\n",
       "</div>"
      ],
      "text/plain": [
       "       count          mean          std      min       25%      50%      75%  \\\n",
       "urban                                                                          \n",
       "Rural   53.0  45773.075472  6232.724885  30831.0  41240.00  45384.0  48998.0   \n",
       "Urban   38.0  45748.921053  7109.788921  32279.0  40452.75  45496.5  50734.5   \n",
       "\n",
       "           max  \n",
       "urban           \n",
       "Rural  62641.0  \n",
       "Urban  61541.0  "
      ]
     },
     "execution_count": 88,
     "metadata": {},
     "output_type": "execute_result"
    }
   ],
   "source": [
    "ha_costs_df.groupby(['urban'])['analysis_value'].describe()"
   ]
  },
  {
   "cell_type": "markdown",
   "metadata": {},
   "source": [
    "### Cancer Database ###"
   ]
  },
  {
   "cell_type": "code",
   "execution_count": 89,
   "metadata": {},
   "outputs": [],
   "source": [
    "cancer_costs_df = pd.read_csv('../data/mmd_cancer_data.csv')"
   ]
  },
  {
   "cell_type": "code",
   "execution_count": 90,
   "metadata": {},
   "outputs": [
    {
     "data": {
      "text/html": [
       "<div>\n",
       "<style scoped>\n",
       "    .dataframe tbody tr th:only-of-type {\n",
       "        vertical-align: middle;\n",
       "    }\n",
       "\n",
       "    .dataframe tbody tr th {\n",
       "        vertical-align: top;\n",
       "    }\n",
       "\n",
       "    .dataframe thead th {\n",
       "        text-align: right;\n",
       "    }\n",
       "</style>\n",
       "<table border=\"1\" class=\"dataframe\">\n",
       "  <thead>\n",
       "    <tr style=\"text-align: right;\">\n",
       "      <th></th>\n",
       "      <th>year</th>\n",
       "      <th>geography</th>\n",
       "      <th>measure</th>\n",
       "      <th>adjustment</th>\n",
       "      <th>analysis</th>\n",
       "      <th>domain</th>\n",
       "      <th>condition</th>\n",
       "      <th>primary_sex</th>\n",
       "      <th>primary_age</th>\n",
       "      <th>primary_dual</th>\n",
       "      <th>fips</th>\n",
       "      <th>county</th>\n",
       "      <th>state</th>\n",
       "      <th>urban</th>\n",
       "      <th>primary_race</th>\n",
       "      <th>primary_denominator</th>\n",
       "      <th>analysis_value</th>\n",
       "    </tr>\n",
       "  </thead>\n",
       "  <tbody>\n",
       "    <tr>\n",
       "      <th>0</th>\n",
       "      <td>2017</td>\n",
       "      <td>County</td>\n",
       "      <td>Average total cost</td>\n",
       "      <td>Unsmoothed actual</td>\n",
       "      <td>Base measure</td>\n",
       "      <td>Primary chronic conditions</td>\n",
       "      <td>Cancer, Colorectal, Breast, Prostate, Lung</td>\n",
       "      <td>All</td>\n",
       "      <td>All</td>\n",
       "      <td>Dual &amp; non-dual</td>\n",
       "      <td>1001</td>\n",
       "      <td>Autauga County</td>\n",
       "      <td>ALABAMA</td>\n",
       "      <td>Urban</td>\n",
       "      <td>All</td>\n",
       "      <td>undefined</td>\n",
       "      <td>19293</td>\n",
       "    </tr>\n",
       "    <tr>\n",
       "      <th>1</th>\n",
       "      <td>2017</td>\n",
       "      <td>County</td>\n",
       "      <td>Average total cost</td>\n",
       "      <td>Unsmoothed actual</td>\n",
       "      <td>Base measure</td>\n",
       "      <td>Primary chronic conditions</td>\n",
       "      <td>Cancer, Colorectal, Breast, Prostate, Lung</td>\n",
       "      <td>All</td>\n",
       "      <td>All</td>\n",
       "      <td>Dual &amp; non-dual</td>\n",
       "      <td>1003</td>\n",
       "      <td>Baldwin County</td>\n",
       "      <td>ALABAMA</td>\n",
       "      <td>Rural</td>\n",
       "      <td>All</td>\n",
       "      <td>undefined</td>\n",
       "      <td>17151</td>\n",
       "    </tr>\n",
       "    <tr>\n",
       "      <th>2</th>\n",
       "      <td>2017</td>\n",
       "      <td>County</td>\n",
       "      <td>Average total cost</td>\n",
       "      <td>Unsmoothed actual</td>\n",
       "      <td>Base measure</td>\n",
       "      <td>Primary chronic conditions</td>\n",
       "      <td>Cancer, Colorectal, Breast, Prostate, Lung</td>\n",
       "      <td>All</td>\n",
       "      <td>All</td>\n",
       "      <td>Dual &amp; non-dual</td>\n",
       "      <td>1005</td>\n",
       "      <td>Barbour County</td>\n",
       "      <td>ALABAMA</td>\n",
       "      <td>Rural</td>\n",
       "      <td>All</td>\n",
       "      <td>undefined</td>\n",
       "      <td>19469</td>\n",
       "    </tr>\n",
       "    <tr>\n",
       "      <th>3</th>\n",
       "      <td>2017</td>\n",
       "      <td>County</td>\n",
       "      <td>Average total cost</td>\n",
       "      <td>Unsmoothed actual</td>\n",
       "      <td>Base measure</td>\n",
       "      <td>Primary chronic conditions</td>\n",
       "      <td>Cancer, Colorectal, Breast, Prostate, Lung</td>\n",
       "      <td>All</td>\n",
       "      <td>All</td>\n",
       "      <td>Dual &amp; non-dual</td>\n",
       "      <td>1007</td>\n",
       "      <td>Bibb County</td>\n",
       "      <td>ALABAMA</td>\n",
       "      <td>Urban</td>\n",
       "      <td>All</td>\n",
       "      <td>undefined</td>\n",
       "      <td>17234</td>\n",
       "    </tr>\n",
       "    <tr>\n",
       "      <th>4</th>\n",
       "      <td>2017</td>\n",
       "      <td>County</td>\n",
       "      <td>Average total cost</td>\n",
       "      <td>Unsmoothed actual</td>\n",
       "      <td>Base measure</td>\n",
       "      <td>Primary chronic conditions</td>\n",
       "      <td>Cancer, Colorectal, Breast, Prostate, Lung</td>\n",
       "      <td>All</td>\n",
       "      <td>All</td>\n",
       "      <td>Dual &amp; non-dual</td>\n",
       "      <td>1009</td>\n",
       "      <td>Blount County</td>\n",
       "      <td>ALABAMA</td>\n",
       "      <td>Urban</td>\n",
       "      <td>All</td>\n",
       "      <td>undefined</td>\n",
       "      <td>20317</td>\n",
       "    </tr>\n",
       "  </tbody>\n",
       "</table>\n",
       "</div>"
      ],
      "text/plain": [
       "   year geography             measure         adjustment      analysis  \\\n",
       "0  2017    County  Average total cost  Unsmoothed actual  Base measure   \n",
       "1  2017    County  Average total cost  Unsmoothed actual  Base measure   \n",
       "2  2017    County  Average total cost  Unsmoothed actual  Base measure   \n",
       "3  2017    County  Average total cost  Unsmoothed actual  Base measure   \n",
       "4  2017    County  Average total cost  Unsmoothed actual  Base measure   \n",
       "\n",
       "                       domain                                   condition  \\\n",
       "0  Primary chronic conditions  Cancer, Colorectal, Breast, Prostate, Lung   \n",
       "1  Primary chronic conditions  Cancer, Colorectal, Breast, Prostate, Lung   \n",
       "2  Primary chronic conditions  Cancer, Colorectal, Breast, Prostate, Lung   \n",
       "3  Primary chronic conditions  Cancer, Colorectal, Breast, Prostate, Lung   \n",
       "4  Primary chronic conditions  Cancer, Colorectal, Breast, Prostate, Lung   \n",
       "\n",
       "  primary_sex primary_age     primary_dual  fips          county    state  \\\n",
       "0         All         All  Dual & non-dual  1001  Autauga County  ALABAMA   \n",
       "1         All         All  Dual & non-dual  1003  Baldwin County  ALABAMA   \n",
       "2         All         All  Dual & non-dual  1005  Barbour County  ALABAMA   \n",
       "3         All         All  Dual & non-dual  1007     Bibb County  ALABAMA   \n",
       "4         All         All  Dual & non-dual  1009   Blount County  ALABAMA   \n",
       "\n",
       "   urban primary_race primary_denominator  analysis_value  \n",
       "0  Urban          All           undefined           19293  \n",
       "1  Rural          All           undefined           17151  \n",
       "2  Rural          All           undefined           19469  \n",
       "3  Urban          All           undefined           17234  \n",
       "4  Urban          All           undefined           20317  "
      ]
     },
     "execution_count": 90,
     "metadata": {},
     "output_type": "execute_result"
    }
   ],
   "source": [
    "cancer_costs_df.head()"
   ]
  },
  {
   "cell_type": "code",
   "execution_count": 91,
   "metadata": {},
   "outputs": [
    {
     "data": {
      "text/html": [
       "<div>\n",
       "<style scoped>\n",
       "    .dataframe tbody tr th:only-of-type {\n",
       "        vertical-align: middle;\n",
       "    }\n",
       "\n",
       "    .dataframe tbody tr th {\n",
       "        vertical-align: top;\n",
       "    }\n",
       "\n",
       "    .dataframe thead th {\n",
       "        text-align: right;\n",
       "    }\n",
       "</style>\n",
       "<table border=\"1\" class=\"dataframe\">\n",
       "  <thead>\n",
       "    <tr style=\"text-align: right;\">\n",
       "      <th></th>\n",
       "      <th>year</th>\n",
       "      <th>geography</th>\n",
       "      <th>measure</th>\n",
       "      <th>adjustment</th>\n",
       "      <th>analysis</th>\n",
       "      <th>domain</th>\n",
       "      <th>condition</th>\n",
       "      <th>primary_sex</th>\n",
       "      <th>primary_age</th>\n",
       "      <th>primary_dual</th>\n",
       "      <th>fips</th>\n",
       "      <th>county</th>\n",
       "      <th>state</th>\n",
       "      <th>urban</th>\n",
       "      <th>primary_race</th>\n",
       "      <th>primary_denominator</th>\n",
       "      <th>analysis_value</th>\n",
       "    </tr>\n",
       "  </thead>\n",
       "  <tbody>\n",
       "    <tr>\n",
       "      <th>3160</th>\n",
       "      <td>2017</td>\n",
       "      <td>County</td>\n",
       "      <td>Average total cost</td>\n",
       "      <td>Unsmoothed actual</td>\n",
       "      <td>Base measure</td>\n",
       "      <td>Primary chronic conditions</td>\n",
       "      <td>Cancer, Colorectal, Breast, Prostate, Lung</td>\n",
       "      <td>All</td>\n",
       "      <td>All</td>\n",
       "      <td>Dual &amp; non-dual</td>\n",
       "      <td>72145</td>\n",
       "      <td>Vega Baja Municipio</td>\n",
       "      <td>PUERTO RICO</td>\n",
       "      <td>Urban</td>\n",
       "      <td>All</td>\n",
       "      <td>undefined</td>\n",
       "      <td>7364</td>\n",
       "    </tr>\n",
       "    <tr>\n",
       "      <th>3161</th>\n",
       "      <td>2017</td>\n",
       "      <td>County</td>\n",
       "      <td>Average total cost</td>\n",
       "      <td>Unsmoothed actual</td>\n",
       "      <td>Base measure</td>\n",
       "      <td>Primary chronic conditions</td>\n",
       "      <td>Cancer, Colorectal, Breast, Prostate, Lung</td>\n",
       "      <td>All</td>\n",
       "      <td>All</td>\n",
       "      <td>Dual &amp; non-dual</td>\n",
       "      <td>72147</td>\n",
       "      <td>Vieques Municipio</td>\n",
       "      <td>PUERTO RICO</td>\n",
       "      <td>Rural</td>\n",
       "      <td>All</td>\n",
       "      <td>undefined</td>\n",
       "      <td>9987</td>\n",
       "    </tr>\n",
       "    <tr>\n",
       "      <th>3162</th>\n",
       "      <td>2017</td>\n",
       "      <td>County</td>\n",
       "      <td>Average total cost</td>\n",
       "      <td>Unsmoothed actual</td>\n",
       "      <td>Base measure</td>\n",
       "      <td>Primary chronic conditions</td>\n",
       "      <td>Cancer, Colorectal, Breast, Prostate, Lung</td>\n",
       "      <td>All</td>\n",
       "      <td>All</td>\n",
       "      <td>Dual &amp; non-dual</td>\n",
       "      <td>72149</td>\n",
       "      <td>Villalba Municipio</td>\n",
       "      <td>PUERTO RICO</td>\n",
       "      <td>Urban</td>\n",
       "      <td>All</td>\n",
       "      <td>undefined</td>\n",
       "      <td>24127</td>\n",
       "    </tr>\n",
       "    <tr>\n",
       "      <th>3163</th>\n",
       "      <td>2017</td>\n",
       "      <td>County</td>\n",
       "      <td>Average total cost</td>\n",
       "      <td>Unsmoothed actual</td>\n",
       "      <td>Base measure</td>\n",
       "      <td>Primary chronic conditions</td>\n",
       "      <td>Cancer, Colorectal, Breast, Prostate, Lung</td>\n",
       "      <td>All</td>\n",
       "      <td>All</td>\n",
       "      <td>Dual &amp; non-dual</td>\n",
       "      <td>72151</td>\n",
       "      <td>Yabucoa Municipio</td>\n",
       "      <td>PUERTO RICO</td>\n",
       "      <td>Urban</td>\n",
       "      <td>All</td>\n",
       "      <td>undefined</td>\n",
       "      <td>8008</td>\n",
       "    </tr>\n",
       "    <tr>\n",
       "      <th>3164</th>\n",
       "      <td>2017</td>\n",
       "      <td>County</td>\n",
       "      <td>Average total cost</td>\n",
       "      <td>Unsmoothed actual</td>\n",
       "      <td>Base measure</td>\n",
       "      <td>Primary chronic conditions</td>\n",
       "      <td>Cancer, Colorectal, Breast, Prostate, Lung</td>\n",
       "      <td>All</td>\n",
       "      <td>All</td>\n",
       "      <td>Dual &amp; non-dual</td>\n",
       "      <td>72153</td>\n",
       "      <td>Yauco Municipio</td>\n",
       "      <td>PUERTO RICO</td>\n",
       "      <td>Urban</td>\n",
       "      <td>All</td>\n",
       "      <td>undefined</td>\n",
       "      <td>11171</td>\n",
       "    </tr>\n",
       "  </tbody>\n",
       "</table>\n",
       "</div>"
      ],
      "text/plain": [
       "      year geography             measure         adjustment      analysis  \\\n",
       "3160  2017    County  Average total cost  Unsmoothed actual  Base measure   \n",
       "3161  2017    County  Average total cost  Unsmoothed actual  Base measure   \n",
       "3162  2017    County  Average total cost  Unsmoothed actual  Base measure   \n",
       "3163  2017    County  Average total cost  Unsmoothed actual  Base measure   \n",
       "3164  2017    County  Average total cost  Unsmoothed actual  Base measure   \n",
       "\n",
       "                          domain                                   condition  \\\n",
       "3160  Primary chronic conditions  Cancer, Colorectal, Breast, Prostate, Lung   \n",
       "3161  Primary chronic conditions  Cancer, Colorectal, Breast, Prostate, Lung   \n",
       "3162  Primary chronic conditions  Cancer, Colorectal, Breast, Prostate, Lung   \n",
       "3163  Primary chronic conditions  Cancer, Colorectal, Breast, Prostate, Lung   \n",
       "3164  Primary chronic conditions  Cancer, Colorectal, Breast, Prostate, Lung   \n",
       "\n",
       "     primary_sex primary_age     primary_dual   fips               county  \\\n",
       "3160         All         All  Dual & non-dual  72145  Vega Baja Municipio   \n",
       "3161         All         All  Dual & non-dual  72147    Vieques Municipio   \n",
       "3162         All         All  Dual & non-dual  72149   Villalba Municipio   \n",
       "3163         All         All  Dual & non-dual  72151    Yabucoa Municipio   \n",
       "3164         All         All  Dual & non-dual  72153      Yauco Municipio   \n",
       "\n",
       "            state  urban primary_race primary_denominator  analysis_value  \n",
       "3160  PUERTO RICO  Urban          All           undefined            7364  \n",
       "3161  PUERTO RICO  Rural          All           undefined            9987  \n",
       "3162  PUERTO RICO  Urban          All           undefined           24127  \n",
       "3163  PUERTO RICO  Urban          All           undefined            8008  \n",
       "3164  PUERTO RICO  Urban          All           undefined           11171  "
      ]
     },
     "execution_count": 91,
     "metadata": {},
     "output_type": "execute_result"
    }
   ],
   "source": [
    "cancer_costs_df.tail()"
   ]
  },
  {
   "cell_type": "code",
   "execution_count": 92,
   "metadata": {},
   "outputs": [],
   "source": [
    "cancer_costs_df = cancer_costs_df.query('state == \"TENNESSEE\"')"
   ]
  },
  {
   "cell_type": "code",
   "execution_count": 93,
   "metadata": {},
   "outputs": [
    {
     "data": {
      "text/plain": [
       "(95, 17)"
      ]
     },
     "execution_count": 93,
     "metadata": {},
     "output_type": "execute_result"
    }
   ],
   "source": [
    "cancer_costs_df.shape"
   ]
  },
  {
   "cell_type": "code",
   "execution_count": 94,
   "metadata": {},
   "outputs": [
    {
     "data": {
      "text/plain": [
       "95"
      ]
     },
     "execution_count": 94,
     "metadata": {},
     "output_type": "execute_result"
    }
   ],
   "source": [
    "cancer_costs_df['county'].nunique()"
   ]
  },
  {
   "cell_type": "code",
   "execution_count": 95,
   "metadata": {},
   "outputs": [
    {
     "data": {
      "text/plain": [
       "{'Hancock County', 'Moore County', 'Pickett County', 'Van Buren County'}"
      ]
     },
     "execution_count": 95,
     "metadata": {},
     "output_type": "execute_result"
    }
   ],
   "source": [
    "set(cancer_costs_df['county']).symmetric_difference(set(ha_costs_df['county']))"
   ]
  },
  {
   "cell_type": "code",
   "execution_count": 96,
   "metadata": {},
   "outputs": [
    {
     "data": {
      "text/plain": [
       "{'Hancock County', 'Moore County', 'Pickett County', 'Van Buren County'}"
      ]
     },
     "execution_count": 96,
     "metadata": {},
     "output_type": "execute_result"
    }
   ],
   "source": [
    "set(cancer_costs_df['county'])-set(ha_costs_df['county'])"
   ]
  },
  {
   "cell_type": "code",
   "execution_count": 97,
   "metadata": {},
   "outputs": [
    {
     "data": {
      "text/html": [
       "<div>\n",
       "<style scoped>\n",
       "    .dataframe tbody tr th:only-of-type {\n",
       "        vertical-align: middle;\n",
       "    }\n",
       "\n",
       "    .dataframe tbody tr th {\n",
       "        vertical-align: top;\n",
       "    }\n",
       "\n",
       "    .dataframe thead th {\n",
       "        text-align: right;\n",
       "    }\n",
       "</style>\n",
       "<table border=\"1\" class=\"dataframe\">\n",
       "  <thead>\n",
       "    <tr style=\"text-align: right;\">\n",
       "      <th></th>\n",
       "      <th>count</th>\n",
       "      <th>mean</th>\n",
       "      <th>std</th>\n",
       "      <th>min</th>\n",
       "      <th>25%</th>\n",
       "      <th>50%</th>\n",
       "      <th>75%</th>\n",
       "      <th>max</th>\n",
       "    </tr>\n",
       "    <tr>\n",
       "      <th>urban</th>\n",
       "      <th></th>\n",
       "      <th></th>\n",
       "      <th></th>\n",
       "      <th></th>\n",
       "      <th></th>\n",
       "      <th></th>\n",
       "      <th></th>\n",
       "      <th></th>\n",
       "    </tr>\n",
       "  </thead>\n",
       "  <tbody>\n",
       "    <tr>\n",
       "      <th>Rural</th>\n",
       "      <td>57.0</td>\n",
       "      <td>19837.421053</td>\n",
       "      <td>2255.416100</td>\n",
       "      <td>15531.0</td>\n",
       "      <td>18328.00</td>\n",
       "      <td>19633.0</td>\n",
       "      <td>21315.00</td>\n",
       "      <td>25909.0</td>\n",
       "    </tr>\n",
       "    <tr>\n",
       "      <th>Urban</th>\n",
       "      <td>38.0</td>\n",
       "      <td>19638.605263</td>\n",
       "      <td>2712.218435</td>\n",
       "      <td>15454.0</td>\n",
       "      <td>17674.75</td>\n",
       "      <td>19203.5</td>\n",
       "      <td>20556.75</td>\n",
       "      <td>27740.0</td>\n",
       "    </tr>\n",
       "  </tbody>\n",
       "</table>\n",
       "</div>"
      ],
      "text/plain": [
       "       count          mean          std      min       25%      50%       75%  \\\n",
       "urban                                                                           \n",
       "Rural   57.0  19837.421053  2255.416100  15531.0  18328.00  19633.0  21315.00   \n",
       "Urban   38.0  19638.605263  2712.218435  15454.0  17674.75  19203.5  20556.75   \n",
       "\n",
       "           max  \n",
       "urban           \n",
       "Rural  25909.0  \n",
       "Urban  27740.0  "
      ]
     },
     "execution_count": 97,
     "metadata": {},
     "output_type": "execute_result"
    }
   ],
   "source": [
    "cancer_costs_df.groupby(['urban'])['analysis_value'].describe()"
   ]
  },
  {
   "cell_type": "markdown",
   "metadata": {},
   "source": [
    "### IRS database ###"
   ]
  },
  {
   "cell_type": "code",
   "execution_count": 98,
   "metadata": {},
   "outputs": [],
   "source": [
    "income_df = pd.read_csv('../data/irs_county_2016.csv')"
   ]
  },
  {
   "cell_type": "code",
   "execution_count": 99,
   "metadata": {},
   "outputs": [
    {
     "data": {
      "text/html": [
       "<div>\n",
       "<style scoped>\n",
       "    .dataframe tbody tr th:only-of-type {\n",
       "        vertical-align: middle;\n",
       "    }\n",
       "\n",
       "    .dataframe tbody tr th {\n",
       "        vertical-align: top;\n",
       "    }\n",
       "\n",
       "    .dataframe thead th {\n",
       "        text-align: right;\n",
       "    }\n",
       "</style>\n",
       "<table border=\"1\" class=\"dataframe\">\n",
       "  <thead>\n",
       "    <tr style=\"text-align: right;\">\n",
       "      <th></th>\n",
       "      <th>STATEFIPS</th>\n",
       "      <th>STATE</th>\n",
       "      <th>COUNTYFIPS</th>\n",
       "      <th>COUNTYNAME</th>\n",
       "      <th>agi_stub</th>\n",
       "      <th>N1</th>\n",
       "      <th>mars1</th>\n",
       "      <th>MARS2</th>\n",
       "      <th>MARS4</th>\n",
       "      <th>PREP</th>\n",
       "      <th>...</th>\n",
       "      <th>N10300</th>\n",
       "      <th>A10300</th>\n",
       "      <th>N85530</th>\n",
       "      <th>A85530</th>\n",
       "      <th>N85300</th>\n",
       "      <th>A85300</th>\n",
       "      <th>N11901</th>\n",
       "      <th>A11901</th>\n",
       "      <th>N11902</th>\n",
       "      <th>A11902</th>\n",
       "    </tr>\n",
       "  </thead>\n",
       "  <tbody>\n",
       "    <tr>\n",
       "      <th>0</th>\n",
       "      <td>1</td>\n",
       "      <td>AL</td>\n",
       "      <td>0</td>\n",
       "      <td>Alabama</td>\n",
       "      <td>1</td>\n",
       "      <td>26450</td>\n",
       "      <td>14680</td>\n",
       "      <td>9740</td>\n",
       "      <td>680</td>\n",
       "      <td>17780</td>\n",
       "      <td>...</td>\n",
       "      <td>4300</td>\n",
       "      <td>9256</td>\n",
       "      <td>70</td>\n",
       "      <td>57</td>\n",
       "      <td>0</td>\n",
       "      <td>0</td>\n",
       "      <td>2590</td>\n",
       "      <td>3685</td>\n",
       "      <td>11510</td>\n",
       "      <td>35079</td>\n",
       "    </tr>\n",
       "    <tr>\n",
       "      <th>1</th>\n",
       "      <td>1</td>\n",
       "      <td>AL</td>\n",
       "      <td>0</td>\n",
       "      <td>Alabama</td>\n",
       "      <td>2</td>\n",
       "      <td>285760</td>\n",
       "      <td>217880</td>\n",
       "      <td>25170</td>\n",
       "      <td>39740</td>\n",
       "      <td>143390</td>\n",
       "      <td>...</td>\n",
       "      <td>70050</td>\n",
       "      <td>40569</td>\n",
       "      <td>0</td>\n",
       "      <td>0</td>\n",
       "      <td>0</td>\n",
       "      <td>0</td>\n",
       "      <td>22720</td>\n",
       "      <td>11109</td>\n",
       "      <td>237630</td>\n",
       "      <td>263152</td>\n",
       "    </tr>\n",
       "    <tr>\n",
       "      <th>2</th>\n",
       "      <td>1</td>\n",
       "      <td>AL</td>\n",
       "      <td>0</td>\n",
       "      <td>Alabama</td>\n",
       "      <td>3</td>\n",
       "      <td>529780</td>\n",
       "      <td>259680</td>\n",
       "      <td>80320</td>\n",
       "      <td>181410</td>\n",
       "      <td>297440</td>\n",
       "      <td>...</td>\n",
       "      <td>297770</td>\n",
       "      <td>290358</td>\n",
       "      <td>0</td>\n",
       "      <td>0</td>\n",
       "      <td>0</td>\n",
       "      <td>0</td>\n",
       "      <td>41330</td>\n",
       "      <td>40647</td>\n",
       "      <td>474140</td>\n",
       "      <td>1569463</td>\n",
       "    </tr>\n",
       "    <tr>\n",
       "      <th>3</th>\n",
       "      <td>1</td>\n",
       "      <td>AL</td>\n",
       "      <td>0</td>\n",
       "      <td>Alabama</td>\n",
       "      <td>4</td>\n",
       "      <td>495750</td>\n",
       "      <td>211100</td>\n",
       "      <td>141800</td>\n",
       "      <td>127420</td>\n",
       "      <td>272030</td>\n",
       "      <td>...</td>\n",
       "      <td>397940</td>\n",
       "      <td>983800</td>\n",
       "      <td>40</td>\n",
       "      <td>22</td>\n",
       "      <td>0</td>\n",
       "      <td>0</td>\n",
       "      <td>73880</td>\n",
       "      <td>110840</td>\n",
       "      <td>415850</td>\n",
       "      <td>1173195</td>\n",
       "    </tr>\n",
       "    <tr>\n",
       "      <th>4</th>\n",
       "      <td>1</td>\n",
       "      <td>AL</td>\n",
       "      <td>0</td>\n",
       "      <td>Alabama</td>\n",
       "      <td>5</td>\n",
       "      <td>263130</td>\n",
       "      <td>82330</td>\n",
       "      <td>137610</td>\n",
       "      <td>35760</td>\n",
       "      <td>154540</td>\n",
       "      <td>...</td>\n",
       "      <td>252940</td>\n",
       "      <td>1346083</td>\n",
       "      <td>20</td>\n",
       "      <td>27</td>\n",
       "      <td>0</td>\n",
       "      <td>0</td>\n",
       "      <td>63240</td>\n",
       "      <td>140446</td>\n",
       "      <td>194790</td>\n",
       "      <td>542205</td>\n",
       "    </tr>\n",
       "  </tbody>\n",
       "</table>\n",
       "<p>5 rows × 148 columns</p>\n",
       "</div>"
      ],
      "text/plain": [
       "   STATEFIPS STATE  COUNTYFIPS COUNTYNAME  agi_stub      N1   mars1   MARS2  \\\n",
       "0          1    AL           0    Alabama         1   26450   14680    9740   \n",
       "1          1    AL           0    Alabama         2  285760  217880   25170   \n",
       "2          1    AL           0    Alabama         3  529780  259680   80320   \n",
       "3          1    AL           0    Alabama         4  495750  211100  141800   \n",
       "4          1    AL           0    Alabama         5  263130   82330  137610   \n",
       "\n",
       "    MARS4    PREP  ...  N10300   A10300  N85530  A85530  N85300  A85300  \\\n",
       "0     680   17780  ...    4300     9256      70      57       0       0   \n",
       "1   39740  143390  ...   70050    40569       0       0       0       0   \n",
       "2  181410  297440  ...  297770   290358       0       0       0       0   \n",
       "3  127420  272030  ...  397940   983800      40      22       0       0   \n",
       "4   35760  154540  ...  252940  1346083      20      27       0       0   \n",
       "\n",
       "   N11901  A11901  N11902   A11902  \n",
       "0    2590    3685   11510    35079  \n",
       "1   22720   11109  237630   263152  \n",
       "2   41330   40647  474140  1569463  \n",
       "3   73880  110840  415850  1173195  \n",
       "4   63240  140446  194790   542205  \n",
       "\n",
       "[5 rows x 148 columns]"
      ]
     },
     "execution_count": 99,
     "metadata": {},
     "output_type": "execute_result"
    }
   ],
   "source": [
    "income_df.head()"
   ]
  },
  {
   "cell_type": "code",
   "execution_count": 100,
   "metadata": {},
   "outputs": [
    {
     "data": {
      "text/html": [
       "<div>\n",
       "<style scoped>\n",
       "    .dataframe tbody tr th:only-of-type {\n",
       "        vertical-align: middle;\n",
       "    }\n",
       "\n",
       "    .dataframe tbody tr th {\n",
       "        vertical-align: top;\n",
       "    }\n",
       "\n",
       "    .dataframe thead th {\n",
       "        text-align: right;\n",
       "    }\n",
       "</style>\n",
       "<table border=\"1\" class=\"dataframe\">\n",
       "  <thead>\n",
       "    <tr style=\"text-align: right;\">\n",
       "      <th></th>\n",
       "      <th>STATEFIPS</th>\n",
       "      <th>STATE</th>\n",
       "      <th>COUNTYFIPS</th>\n",
       "      <th>COUNTYNAME</th>\n",
       "      <th>agi_stub</th>\n",
       "      <th>N1</th>\n",
       "      <th>mars1</th>\n",
       "      <th>MARS2</th>\n",
       "      <th>MARS4</th>\n",
       "      <th>PREP</th>\n",
       "      <th>...</th>\n",
       "      <th>N10300</th>\n",
       "      <th>A10300</th>\n",
       "      <th>N85530</th>\n",
       "      <th>A85530</th>\n",
       "      <th>N85300</th>\n",
       "      <th>A85300</th>\n",
       "      <th>N11901</th>\n",
       "      <th>A11901</th>\n",
       "      <th>N11902</th>\n",
       "      <th>A11902</th>\n",
       "    </tr>\n",
       "  </thead>\n",
       "  <tbody>\n",
       "    <tr>\n",
       "      <th>25531</th>\n",
       "      <td>56</td>\n",
       "      <td>WY</td>\n",
       "      <td>45</td>\n",
       "      <td>Weston County</td>\n",
       "      <td>4</td>\n",
       "      <td>610</td>\n",
       "      <td>310</td>\n",
       "      <td>210</td>\n",
       "      <td>70</td>\n",
       "      <td>380</td>\n",
       "      <td>...</td>\n",
       "      <td>540</td>\n",
       "      <td>1559</td>\n",
       "      <td>0</td>\n",
       "      <td>0</td>\n",
       "      <td>0</td>\n",
       "      <td>0</td>\n",
       "      <td>100</td>\n",
       "      <td>188</td>\n",
       "      <td>490</td>\n",
       "      <td>1377</td>\n",
       "    </tr>\n",
       "    <tr>\n",
       "      <th>25532</th>\n",
       "      <td>56</td>\n",
       "      <td>WY</td>\n",
       "      <td>45</td>\n",
       "      <td>Weston County</td>\n",
       "      <td>5</td>\n",
       "      <td>460</td>\n",
       "      <td>150</td>\n",
       "      <td>270</td>\n",
       "      <td>40</td>\n",
       "      <td>300</td>\n",
       "      <td>...</td>\n",
       "      <td>440</td>\n",
       "      <td>2548</td>\n",
       "      <td>0</td>\n",
       "      <td>0</td>\n",
       "      <td>0</td>\n",
       "      <td>0</td>\n",
       "      <td>90</td>\n",
       "      <td>249</td>\n",
       "      <td>360</td>\n",
       "      <td>1111</td>\n",
       "    </tr>\n",
       "    <tr>\n",
       "      <th>25533</th>\n",
       "      <td>56</td>\n",
       "      <td>WY</td>\n",
       "      <td>45</td>\n",
       "      <td>Weston County</td>\n",
       "      <td>6</td>\n",
       "      <td>460</td>\n",
       "      <td>90</td>\n",
       "      <td>330</td>\n",
       "      <td>40</td>\n",
       "      <td>310</td>\n",
       "      <td>...</td>\n",
       "      <td>450</td>\n",
       "      <td>4072</td>\n",
       "      <td>0</td>\n",
       "      <td>0</td>\n",
       "      <td>0</td>\n",
       "      <td>0</td>\n",
       "      <td>100</td>\n",
       "      <td>333</td>\n",
       "      <td>340</td>\n",
       "      <td>1251</td>\n",
       "    </tr>\n",
       "    <tr>\n",
       "      <th>25534</th>\n",
       "      <td>56</td>\n",
       "      <td>WY</td>\n",
       "      <td>45</td>\n",
       "      <td>Weston County</td>\n",
       "      <td>7</td>\n",
       "      <td>460</td>\n",
       "      <td>40</td>\n",
       "      <td>420</td>\n",
       "      <td>0</td>\n",
       "      <td>320</td>\n",
       "      <td>...</td>\n",
       "      <td>460</td>\n",
       "      <td>7958</td>\n",
       "      <td>0</td>\n",
       "      <td>0</td>\n",
       "      <td>0</td>\n",
       "      <td>0</td>\n",
       "      <td>180</td>\n",
       "      <td>907</td>\n",
       "      <td>260</td>\n",
       "      <td>1045</td>\n",
       "    </tr>\n",
       "    <tr>\n",
       "      <th>25535</th>\n",
       "      <td>56</td>\n",
       "      <td>WY</td>\n",
       "      <td>45</td>\n",
       "      <td>Weston County</td>\n",
       "      <td>8</td>\n",
       "      <td>90</td>\n",
       "      <td>0</td>\n",
       "      <td>80</td>\n",
       "      <td>0</td>\n",
       "      <td>80</td>\n",
       "      <td>...</td>\n",
       "      <td>90</td>\n",
       "      <td>7195</td>\n",
       "      <td>0</td>\n",
       "      <td>0</td>\n",
       "      <td>50</td>\n",
       "      <td>146</td>\n",
       "      <td>50</td>\n",
       "      <td>2257</td>\n",
       "      <td>30</td>\n",
       "      <td>377</td>\n",
       "    </tr>\n",
       "  </tbody>\n",
       "</table>\n",
       "<p>5 rows × 148 columns</p>\n",
       "</div>"
      ],
      "text/plain": [
       "       STATEFIPS STATE  COUNTYFIPS     COUNTYNAME  agi_stub   N1  mars1  \\\n",
       "25531         56    WY          45  Weston County         4  610    310   \n",
       "25532         56    WY          45  Weston County         5  460    150   \n",
       "25533         56    WY          45  Weston County         6  460     90   \n",
       "25534         56    WY          45  Weston County         7  460     40   \n",
       "25535         56    WY          45  Weston County         8   90      0   \n",
       "\n",
       "       MARS2  MARS4  PREP  ...  N10300  A10300  N85530  A85530  N85300  \\\n",
       "25531    210     70   380  ...     540    1559       0       0       0   \n",
       "25532    270     40   300  ...     440    2548       0       0       0   \n",
       "25533    330     40   310  ...     450    4072       0       0       0   \n",
       "25534    420      0   320  ...     460    7958       0       0       0   \n",
       "25535     80      0    80  ...      90    7195       0       0      50   \n",
       "\n",
       "       A85300  N11901  A11901  N11902  A11902  \n",
       "25531       0     100     188     490    1377  \n",
       "25532       0      90     249     360    1111  \n",
       "25533       0     100     333     340    1251  \n",
       "25534       0     180     907     260    1045  \n",
       "25535     146      50    2257      30     377  \n",
       "\n",
       "[5 rows x 148 columns]"
      ]
     },
     "execution_count": 100,
     "metadata": {},
     "output_type": "execute_result"
    }
   ],
   "source": [
    "income_df.tail()"
   ]
  },
  {
   "cell_type": "code",
   "execution_count": 101,
   "metadata": {},
   "outputs": [],
   "source": [
    "income_df = income_df.query('STATE == \"TN\"')"
   ]
  },
  {
   "cell_type": "code",
   "execution_count": 102,
   "metadata": {},
   "outputs": [
    {
     "data": {
      "text/plain": [
       "(768, 148)"
      ]
     },
     "execution_count": 102,
     "metadata": {},
     "output_type": "execute_result"
    }
   ],
   "source": [
    "income_df.shape"
   ]
  },
  {
   "cell_type": "code",
   "execution_count": 103,
   "metadata": {},
   "outputs": [],
   "source": [
    "column_list = ['STATE', 'COUNTYNAME', 'agi_stub', 'N1', 'mars1', 'MARS2', 'MARS4', 'N2', 'NUMDEP', 'ELDERLY', 'A00100', 'N02650', 'A02650', 'N02300', 'A02300']"
   ]
  },
  {
   "cell_type": "code",
   "execution_count": 104,
   "metadata": {},
   "outputs": [],
   "source": [
    "income_df = income_df[column_list]"
   ]
  },
  {
   "cell_type": "code",
   "execution_count": 105,
   "metadata": {},
   "outputs": [
    {
     "data": {
      "text/plain": [
       "(768, 15)"
      ]
     },
     "execution_count": 105,
     "metadata": {},
     "output_type": "execute_result"
    }
   ],
   "source": [
    "income_df.shape"
   ]
  },
  {
   "cell_type": "code",
   "execution_count": 106,
   "metadata": {},
   "outputs": [
    {
     "data": {
      "text/plain": [
       "15"
      ]
     },
     "execution_count": 106,
     "metadata": {},
     "output_type": "execute_result"
    }
   ],
   "source": [
    "len(column_list)"
   ]
  },
  {
   "cell_type": "code",
   "execution_count": 107,
   "metadata": {},
   "outputs": [],
   "source": [
    "new_column_list = ['state', 'county', 'income_bucket', 'return_count', 'single_returns', 'joint_returns', 'head_of_house_returns', 'exemptions', 'dependents', 'elderly', 'agi', 'returns_with_total_inc','total_inc_amt', 'returns_with_unemployment', 'unemployment_comp']"
   ]
  },
  {
   "cell_type": "code",
   "execution_count": 108,
   "metadata": {},
   "outputs": [
    {
     "data": {
      "text/plain": [
       "15"
      ]
     },
     "execution_count": 108,
     "metadata": {},
     "output_type": "execute_result"
    }
   ],
   "source": [
    "len(new_column_list)"
   ]
  },
  {
   "cell_type": "code",
   "execution_count": 109,
   "metadata": {},
   "outputs": [],
   "source": [
    "column_name_dict = dict(zip(column_list,new_column_list))"
   ]
  },
  {
   "cell_type": "code",
   "execution_count": 110,
   "metadata": {},
   "outputs": [
    {
     "data": {
      "text/plain": [
       "{'STATE': 'state',\n",
       " 'COUNTYNAME': 'county',\n",
       " 'agi_stub': 'income_bucket',\n",
       " 'N1': 'return_count',\n",
       " 'mars1': 'single_returns',\n",
       " 'MARS2': 'joint_returns',\n",
       " 'MARS4': 'head_of_house_returns',\n",
       " 'N2': 'exemptions',\n",
       " 'NUMDEP': 'dependents',\n",
       " 'ELDERLY': 'elderly',\n",
       " 'A00100': 'agi',\n",
       " 'N02650': 'returns_with_total_inc',\n",
       " 'A02650': 'total_inc_amt',\n",
       " 'N02300': 'returns_with_unemployment',\n",
       " 'A02300': 'unemployment_comp'}"
      ]
     },
     "execution_count": 110,
     "metadata": {},
     "output_type": "execute_result"
    }
   ],
   "source": [
    "column_name_dict"
   ]
  },
  {
   "cell_type": "code",
   "execution_count": 111,
   "metadata": {},
   "outputs": [],
   "source": [
    "income_df = income_df.rename(columns = column_name_dict)"
   ]
  },
  {
   "cell_type": "code",
   "execution_count": 112,
   "metadata": {},
   "outputs": [
    {
     "data": {
      "text/plain": [
       "Index(['state', 'county', 'income_bucket', 'return_count', 'single_returns',\n",
       "       'joint_returns', 'head_of_house_returns', 'exemptions', 'dependents',\n",
       "       'elderly', 'agi', 'returns_with_total_inc', 'total_inc_amt',\n",
       "       'returns_with_unemployment', 'unemployment_comp'],\n",
       "      dtype='object')"
      ]
     },
     "execution_count": 112,
     "metadata": {},
     "output_type": "execute_result"
    }
   ],
   "source": [
    "income_df.columns"
   ]
  },
  {
   "cell_type": "code",
   "execution_count": 113,
   "metadata": {},
   "outputs": [
    {
     "data": {
      "text/html": [
       "<div>\n",
       "<style scoped>\n",
       "    .dataframe tbody tr th:only-of-type {\n",
       "        vertical-align: middle;\n",
       "    }\n",
       "\n",
       "    .dataframe tbody tr th {\n",
       "        vertical-align: top;\n",
       "    }\n",
       "\n",
       "    .dataframe thead th {\n",
       "        text-align: right;\n",
       "    }\n",
       "</style>\n",
       "<table border=\"1\" class=\"dataframe\">\n",
       "  <thead>\n",
       "    <tr style=\"text-align: right;\">\n",
       "      <th></th>\n",
       "      <th>state</th>\n",
       "      <th>county</th>\n",
       "      <th>income_bucket</th>\n",
       "      <th>return_count</th>\n",
       "      <th>single_returns</th>\n",
       "      <th>joint_returns</th>\n",
       "      <th>head_of_house_returns</th>\n",
       "      <th>exemptions</th>\n",
       "      <th>dependents</th>\n",
       "      <th>elderly</th>\n",
       "      <th>agi</th>\n",
       "      <th>returns_with_total_inc</th>\n",
       "      <th>total_inc_amt</th>\n",
       "      <th>returns_with_unemployment</th>\n",
       "      <th>unemployment_comp</th>\n",
       "    </tr>\n",
       "  </thead>\n",
       "  <tbody>\n",
       "    <tr>\n",
       "      <th>19752</th>\n",
       "      <td>TN</td>\n",
       "      <td>Tennessee</td>\n",
       "      <td>1</td>\n",
       "      <td>39580</td>\n",
       "      <td>22400</td>\n",
       "      <td>14440</td>\n",
       "      <td>980</td>\n",
       "      <td>60360</td>\n",
       "      <td>8230</td>\n",
       "      <td>19090</td>\n",
       "      <td>-2747555</td>\n",
       "      <td>29090</td>\n",
       "      <td>-2710342</td>\n",
       "      <td>90</td>\n",
       "      <td>348</td>\n",
       "    </tr>\n",
       "    <tr>\n",
       "      <th>19753</th>\n",
       "      <td>TN</td>\n",
       "      <td>Tennessee</td>\n",
       "      <td>2</td>\n",
       "      <td>439770</td>\n",
       "      <td>345410</td>\n",
       "      <td>39920</td>\n",
       "      <td>49300</td>\n",
       "      <td>443540</td>\n",
       "      <td>108380</td>\n",
       "      <td>74190</td>\n",
       "      <td>2366417</td>\n",
       "      <td>439780</td>\n",
       "      <td>2441687</td>\n",
       "      <td>4830</td>\n",
       "      <td>12132</td>\n",
       "    </tr>\n",
       "    <tr>\n",
       "      <th>19754</th>\n",
       "      <td>TN</td>\n",
       "      <td>Tennessee</td>\n",
       "      <td>3</td>\n",
       "      <td>717430</td>\n",
       "      <td>398720</td>\n",
       "      <td>115040</td>\n",
       "      <td>189290</td>\n",
       "      <td>1269420</td>\n",
       "      <td>472350</td>\n",
       "      <td>141070</td>\n",
       "      <td>12289681</td>\n",
       "      <td>717430</td>\n",
       "      <td>12486175</td>\n",
       "      <td>19660</td>\n",
       "      <td>58771</td>\n",
       "    </tr>\n",
       "    <tr>\n",
       "      <th>19755</th>\n",
       "      <td>TN</td>\n",
       "      <td>Tennessee</td>\n",
       "      <td>4</td>\n",
       "      <td>759340</td>\n",
       "      <td>355970</td>\n",
       "      <td>217710</td>\n",
       "      <td>159890</td>\n",
       "      <td>1486710</td>\n",
       "      <td>512170</td>\n",
       "      <td>154020</td>\n",
       "      <td>27370414</td>\n",
       "      <td>759340</td>\n",
       "      <td>27694026</td>\n",
       "      <td>19120</td>\n",
       "      <td>57012</td>\n",
       "    </tr>\n",
       "    <tr>\n",
       "      <th>19756</th>\n",
       "      <td>TN</td>\n",
       "      <td>Tennessee</td>\n",
       "      <td>5</td>\n",
       "      <td>396810</td>\n",
       "      <td>128390</td>\n",
       "      <td>215890</td>\n",
       "      <td>42240</td>\n",
       "      <td>881020</td>\n",
       "      <td>268500</td>\n",
       "      <td>106740</td>\n",
       "      <td>24350682</td>\n",
       "      <td>396810</td>\n",
       "      <td>24651803</td>\n",
       "      <td>10630</td>\n",
       "      <td>33894</td>\n",
       "    </tr>\n",
       "  </tbody>\n",
       "</table>\n",
       "</div>"
      ],
      "text/plain": [
       "      state     county  income_bucket  return_count  single_returns  \\\n",
       "19752    TN  Tennessee              1         39580           22400   \n",
       "19753    TN  Tennessee              2        439770          345410   \n",
       "19754    TN  Tennessee              3        717430          398720   \n",
       "19755    TN  Tennessee              4        759340          355970   \n",
       "19756    TN  Tennessee              5        396810          128390   \n",
       "\n",
       "       joint_returns  head_of_house_returns  exemptions  dependents  elderly  \\\n",
       "19752          14440                    980       60360        8230    19090   \n",
       "19753          39920                  49300      443540      108380    74190   \n",
       "19754         115040                 189290     1269420      472350   141070   \n",
       "19755         217710                 159890     1486710      512170   154020   \n",
       "19756         215890                  42240      881020      268500   106740   \n",
       "\n",
       "            agi  returns_with_total_inc  total_inc_amt  \\\n",
       "19752  -2747555                   29090       -2710342   \n",
       "19753   2366417                  439780        2441687   \n",
       "19754  12289681                  717430       12486175   \n",
       "19755  27370414                  759340       27694026   \n",
       "19756  24350682                  396810       24651803   \n",
       "\n",
       "       returns_with_unemployment  unemployment_comp  \n",
       "19752                         90                348  \n",
       "19753                       4830              12132  \n",
       "19754                      19660              58771  \n",
       "19755                      19120              57012  \n",
       "19756                      10630              33894  "
      ]
     },
     "execution_count": 113,
     "metadata": {},
     "output_type": "execute_result"
    }
   ],
   "source": [
    "income_df.head()"
   ]
  },
  {
   "cell_type": "markdown",
   "metadata": {},
   "source": [
    "### Week 2 Task ###"
   ]
  },
  {
   "cell_type": "code",
   "execution_count": 114,
   "metadata": {},
   "outputs": [],
   "source": [
    "value_key = income_df.income_bucket.unique().tolist()"
   ]
  },
  {
   "cell_type": "code",
   "execution_count": 115,
   "metadata": {},
   "outputs": [],
   "source": [
    "value_list = ['Total', 'Under $1', 'Between 1 and $10,000', 'Between 10,000 and $25,000','Between 25,000 and $50,000', 'Between 50,000 and $75,000', 'Between 75,000 and $100,000', 'Between 100,000 and $200,000', '$200,000 or more'\n",
    "        ]"
   ]
  },
  {
   "cell_type": "code",
   "execution_count": 116,
   "metadata": {},
   "outputs": [],
   "source": [
    "income_dict = dict(zip(value_key,value_list[1:]))"
   ]
  },
  {
   "cell_type": "code",
   "execution_count": 117,
   "metadata": {},
   "outputs": [
    {
     "data": {
      "text/plain": [
       "{1: 'Under $1',\n",
       " 2: 'Between 1 and $10,000',\n",
       " 3: 'Between 10,000 and $25,000',\n",
       " 4: 'Between 25,000 and $50,000',\n",
       " 5: 'Between 50,000 and $75,000',\n",
       " 6: 'Between 75,000 and $100,000',\n",
       " 7: 'Between 100,000 and $200,000',\n",
       " 8: '$200,000 or more'}"
      ]
     },
     "execution_count": 117,
     "metadata": {},
     "output_type": "execute_result"
    }
   ],
   "source": [
    "income_dict"
   ]
  },
  {
   "cell_type": "code",
   "execution_count": 118,
   "metadata": {},
   "outputs": [],
   "source": [
    "income_df.income_bucket = income_df.income_bucket.replace(income_dict)"
   ]
  },
  {
   "cell_type": "code",
   "execution_count": 119,
   "metadata": {},
   "outputs": [],
   "source": [
    "income_county_agg = income_df.groupby(['county']).sum()"
   ]
  },
  {
   "cell_type": "code",
   "execution_count": 120,
   "metadata": {},
   "outputs": [
    {
     "data": {
      "text/html": [
       "<div>\n",
       "<style scoped>\n",
       "    .dataframe tbody tr th:only-of-type {\n",
       "        vertical-align: middle;\n",
       "    }\n",
       "\n",
       "    .dataframe tbody tr th {\n",
       "        vertical-align: top;\n",
       "    }\n",
       "\n",
       "    .dataframe thead th {\n",
       "        text-align: right;\n",
       "    }\n",
       "</style>\n",
       "<table border=\"1\" class=\"dataframe\">\n",
       "  <thead>\n",
       "    <tr style=\"text-align: right;\">\n",
       "      <th></th>\n",
       "      <th>return_count</th>\n",
       "      <th>single_returns</th>\n",
       "      <th>joint_returns</th>\n",
       "      <th>head_of_house_returns</th>\n",
       "      <th>exemptions</th>\n",
       "      <th>dependents</th>\n",
       "      <th>elderly</th>\n",
       "      <th>agi</th>\n",
       "      <th>returns_with_total_inc</th>\n",
       "      <th>total_inc_amt</th>\n",
       "      <th>returns_with_unemployment</th>\n",
       "      <th>unemployment_comp</th>\n",
       "    </tr>\n",
       "    <tr>\n",
       "      <th>county</th>\n",
       "      <th></th>\n",
       "      <th></th>\n",
       "      <th></th>\n",
       "      <th></th>\n",
       "      <th></th>\n",
       "      <th></th>\n",
       "      <th></th>\n",
       "      <th></th>\n",
       "      <th></th>\n",
       "      <th></th>\n",
       "      <th></th>\n",
       "      <th></th>\n",
       "    </tr>\n",
       "  </thead>\n",
       "  <tbody>\n",
       "    <tr>\n",
       "      <th>Anderson County</th>\n",
       "      <td>34290</td>\n",
       "      <td>14990</td>\n",
       "      <td>14030</td>\n",
       "      <td>4550</td>\n",
       "      <td>65950</td>\n",
       "      <td>19620</td>\n",
       "      <td>9670</td>\n",
       "      <td>1807309</td>\n",
       "      <td>34140</td>\n",
       "      <td>1830482</td>\n",
       "      <td>700</td>\n",
       "      <td>2452</td>\n",
       "    </tr>\n",
       "    <tr>\n",
       "      <th>Bedford County</th>\n",
       "      <td>20920</td>\n",
       "      <td>8600</td>\n",
       "      <td>8010</td>\n",
       "      <td>3910</td>\n",
       "      <td>43550</td>\n",
       "      <td>15790</td>\n",
       "      <td>4430</td>\n",
       "      <td>971152</td>\n",
       "      <td>20840</td>\n",
       "      <td>985909</td>\n",
       "      <td>410</td>\n",
       "      <td>1023</td>\n",
       "    </tr>\n",
       "    <tr>\n",
       "      <th>Benton County</th>\n",
       "      <td>6610</td>\n",
       "      <td>2660</td>\n",
       "      <td>2840</td>\n",
       "      <td>1000</td>\n",
       "      <td>13020</td>\n",
       "      <td>3890</td>\n",
       "      <td>2000</td>\n",
       "      <td>269227</td>\n",
       "      <td>6580</td>\n",
       "      <td>272971</td>\n",
       "      <td>360</td>\n",
       "      <td>1119</td>\n",
       "    </tr>\n",
       "    <tr>\n",
       "      <th>Bledsoe County</th>\n",
       "      <td>4560</td>\n",
       "      <td>1620</td>\n",
       "      <td>2220</td>\n",
       "      <td>610</td>\n",
       "      <td>9690</td>\n",
       "      <td>3100</td>\n",
       "      <td>1200</td>\n",
       "      <td>178860</td>\n",
       "      <td>4540</td>\n",
       "      <td>181231</td>\n",
       "      <td>160</td>\n",
       "      <td>458</td>\n",
       "    </tr>\n",
       "    <tr>\n",
       "      <th>Blount County</th>\n",
       "      <td>59550</td>\n",
       "      <td>25090</td>\n",
       "      <td>26650</td>\n",
       "      <td>6550</td>\n",
       "      <td>115820</td>\n",
       "      <td>33400</td>\n",
       "      <td>16880</td>\n",
       "      <td>3333654</td>\n",
       "      <td>59350</td>\n",
       "      <td>3381616</td>\n",
       "      <td>1190</td>\n",
       "      <td>3551</td>\n",
       "    </tr>\n",
       "  </tbody>\n",
       "</table>\n",
       "</div>"
      ],
      "text/plain": [
       "                 return_count  single_returns  joint_returns  \\\n",
       "county                                                         \n",
       "Anderson County         34290           14990          14030   \n",
       "Bedford County          20920            8600           8010   \n",
       "Benton County            6610            2660           2840   \n",
       "Bledsoe County           4560            1620           2220   \n",
       "Blount County           59550           25090          26650   \n",
       "\n",
       "                 head_of_house_returns  exemptions  dependents  elderly  \\\n",
       "county                                                                    \n",
       "Anderson County                   4550       65950       19620     9670   \n",
       "Bedford County                    3910       43550       15790     4430   \n",
       "Benton County                     1000       13020        3890     2000   \n",
       "Bledsoe County                     610        9690        3100     1200   \n",
       "Blount County                     6550      115820       33400    16880   \n",
       "\n",
       "                     agi  returns_with_total_inc  total_inc_amt  \\\n",
       "county                                                            \n",
       "Anderson County  1807309                   34140        1830482   \n",
       "Bedford County    971152                   20840         985909   \n",
       "Benton County     269227                    6580         272971   \n",
       "Bledsoe County    178860                    4540         181231   \n",
       "Blount County    3333654                   59350        3381616   \n",
       "\n",
       "                 returns_with_unemployment  unemployment_comp  \n",
       "county                                                         \n",
       "Anderson County                        700               2452  \n",
       "Bedford County                         410               1023  \n",
       "Benton County                          360               1119  \n",
       "Bledsoe County                         160                458  \n",
       "Blount County                         1190               3551  "
      ]
     },
     "execution_count": 120,
     "metadata": {},
     "output_type": "execute_result"
    }
   ],
   "source": [
    "income_county_agg.head()"
   ]
  },
  {
   "cell_type": "code",
   "execution_count": 121,
   "metadata": {},
   "outputs": [],
   "source": [
    "income_county_agg = income_county_agg.reset_index()"
   ]
  },
  {
   "cell_type": "code",
   "execution_count": 122,
   "metadata": {},
   "outputs": [
    {
     "data": {
      "text/html": [
       "<div>\n",
       "<style scoped>\n",
       "    .dataframe tbody tr th:only-of-type {\n",
       "        vertical-align: middle;\n",
       "    }\n",
       "\n",
       "    .dataframe tbody tr th {\n",
       "        vertical-align: top;\n",
       "    }\n",
       "\n",
       "    .dataframe thead th {\n",
       "        text-align: right;\n",
       "    }\n",
       "</style>\n",
       "<table border=\"1\" class=\"dataframe\">\n",
       "  <thead>\n",
       "    <tr style=\"text-align: right;\">\n",
       "      <th></th>\n",
       "      <th>county</th>\n",
       "      <th>return_count</th>\n",
       "      <th>single_returns</th>\n",
       "      <th>joint_returns</th>\n",
       "      <th>head_of_house_returns</th>\n",
       "      <th>exemptions</th>\n",
       "      <th>dependents</th>\n",
       "      <th>elderly</th>\n",
       "      <th>agi</th>\n",
       "      <th>returns_with_total_inc</th>\n",
       "      <th>total_inc_amt</th>\n",
       "      <th>returns_with_unemployment</th>\n",
       "      <th>unemployment_comp</th>\n",
       "    </tr>\n",
       "  </thead>\n",
       "  <tbody>\n",
       "    <tr>\n",
       "      <th>0</th>\n",
       "      <td>Anderson County</td>\n",
       "      <td>34290</td>\n",
       "      <td>14990</td>\n",
       "      <td>14030</td>\n",
       "      <td>4550</td>\n",
       "      <td>65950</td>\n",
       "      <td>19620</td>\n",
       "      <td>9670</td>\n",
       "      <td>1807309</td>\n",
       "      <td>34140</td>\n",
       "      <td>1830482</td>\n",
       "      <td>700</td>\n",
       "      <td>2452</td>\n",
       "    </tr>\n",
       "    <tr>\n",
       "      <th>1</th>\n",
       "      <td>Bedford County</td>\n",
       "      <td>20920</td>\n",
       "      <td>8600</td>\n",
       "      <td>8010</td>\n",
       "      <td>3910</td>\n",
       "      <td>43550</td>\n",
       "      <td>15790</td>\n",
       "      <td>4430</td>\n",
       "      <td>971152</td>\n",
       "      <td>20840</td>\n",
       "      <td>985909</td>\n",
       "      <td>410</td>\n",
       "      <td>1023</td>\n",
       "    </tr>\n",
       "    <tr>\n",
       "      <th>2</th>\n",
       "      <td>Benton County</td>\n",
       "      <td>6610</td>\n",
       "      <td>2660</td>\n",
       "      <td>2840</td>\n",
       "      <td>1000</td>\n",
       "      <td>13020</td>\n",
       "      <td>3890</td>\n",
       "      <td>2000</td>\n",
       "      <td>269227</td>\n",
       "      <td>6580</td>\n",
       "      <td>272971</td>\n",
       "      <td>360</td>\n",
       "      <td>1119</td>\n",
       "    </tr>\n",
       "    <tr>\n",
       "      <th>3</th>\n",
       "      <td>Bledsoe County</td>\n",
       "      <td>4560</td>\n",
       "      <td>1620</td>\n",
       "      <td>2220</td>\n",
       "      <td>610</td>\n",
       "      <td>9690</td>\n",
       "      <td>3100</td>\n",
       "      <td>1200</td>\n",
       "      <td>178860</td>\n",
       "      <td>4540</td>\n",
       "      <td>181231</td>\n",
       "      <td>160</td>\n",
       "      <td>458</td>\n",
       "    </tr>\n",
       "    <tr>\n",
       "      <th>4</th>\n",
       "      <td>Blount County</td>\n",
       "      <td>59550</td>\n",
       "      <td>25090</td>\n",
       "      <td>26650</td>\n",
       "      <td>6550</td>\n",
       "      <td>115820</td>\n",
       "      <td>33400</td>\n",
       "      <td>16880</td>\n",
       "      <td>3333654</td>\n",
       "      <td>59350</td>\n",
       "      <td>3381616</td>\n",
       "      <td>1190</td>\n",
       "      <td>3551</td>\n",
       "    </tr>\n",
       "  </tbody>\n",
       "</table>\n",
       "</div>"
      ],
      "text/plain": [
       "            county  return_count  single_returns  joint_returns  \\\n",
       "0  Anderson County         34290           14990          14030   \n",
       "1   Bedford County         20920            8600           8010   \n",
       "2    Benton County          6610            2660           2840   \n",
       "3   Bledsoe County          4560            1620           2220   \n",
       "4    Blount County         59550           25090          26650   \n",
       "\n",
       "   head_of_house_returns  exemptions  dependents  elderly      agi  \\\n",
       "0                   4550       65950       19620     9670  1807309   \n",
       "1                   3910       43550       15790     4430   971152   \n",
       "2                   1000       13020        3890     2000   269227   \n",
       "3                    610        9690        3100     1200   178860   \n",
       "4                   6550      115820       33400    16880  3333654   \n",
       "\n",
       "   returns_with_total_inc  total_inc_amt  returns_with_unemployment  \\\n",
       "0                   34140        1830482                        700   \n",
       "1                   20840         985909                        410   \n",
       "2                    6580         272971                        360   \n",
       "3                    4540         181231                        160   \n",
       "4                   59350        3381616                       1190   \n",
       "\n",
       "   unemployment_comp  \n",
       "0               2452  \n",
       "1               1023  \n",
       "2               1119  \n",
       "3                458  \n",
       "4               3551  "
      ]
     },
     "execution_count": 122,
     "metadata": {},
     "output_type": "execute_result"
    }
   ],
   "source": [
    "income_county_agg.head()"
   ]
  },
  {
   "cell_type": "markdown",
   "metadata": {},
   "source": [
    "## Week 3 Code ###"
   ]
  },
  {
   "cell_type": "code",
   "execution_count": 123,
   "metadata": {},
   "outputs": [],
   "source": [
    "avg_inc_list = []"
   ]
  },
  {
   "cell_type": "code",
   "execution_count": 124,
   "metadata": {},
   "outputs": [
    {
     "name": "stdout",
     "output_type": "stream",
     "text": [
      "CPU times: user 15.6 ms, sys: 0 ns, total: 15.6 ms\n",
      "Wall time: 19.4 ms\n"
     ]
    }
   ],
   "source": [
    "%%time\n",
    "\n",
    "for i,j in income_county_agg.iterrows():\n",
    "    income = j.total_inc_amt * 1000\n",
    "    count = j.return_count\n",
    "    avg_inc_list.append(round(income/count))"
   ]
  },
  {
   "cell_type": "code",
   "execution_count": 125,
   "metadata": {},
   "outputs": [
    {
     "data": {
      "text/plain": [
       "96"
      ]
     },
     "execution_count": 125,
     "metadata": {},
     "output_type": "execute_result"
    }
   ],
   "source": [
    "len(avg_inc_list)"
   ]
  },
  {
   "cell_type": "code",
   "execution_count": 126,
   "metadata": {},
   "outputs": [
    {
     "data": {
      "text/plain": [
       "96"
      ]
     },
     "execution_count": 126,
     "metadata": {},
     "output_type": "execute_result"
    }
   ],
   "source": [
    "len(income_county_agg)"
   ]
  },
  {
   "cell_type": "code",
   "execution_count": 127,
   "metadata": {},
   "outputs": [],
   "source": [
    "income_county_agg['avg_income'] = avg_inc_list"
   ]
  },
  {
   "cell_type": "code",
   "execution_count": 128,
   "metadata": {},
   "outputs": [
    {
     "data": {
      "text/html": [
       "<div>\n",
       "<style scoped>\n",
       "    .dataframe tbody tr th:only-of-type {\n",
       "        vertical-align: middle;\n",
       "    }\n",
       "\n",
       "    .dataframe tbody tr th {\n",
       "        vertical-align: top;\n",
       "    }\n",
       "\n",
       "    .dataframe thead th {\n",
       "        text-align: right;\n",
       "    }\n",
       "</style>\n",
       "<table border=\"1\" class=\"dataframe\">\n",
       "  <thead>\n",
       "    <tr style=\"text-align: right;\">\n",
       "      <th></th>\n",
       "      <th>county</th>\n",
       "      <th>return_count</th>\n",
       "      <th>single_returns</th>\n",
       "      <th>joint_returns</th>\n",
       "      <th>head_of_house_returns</th>\n",
       "      <th>exemptions</th>\n",
       "      <th>dependents</th>\n",
       "      <th>elderly</th>\n",
       "      <th>agi</th>\n",
       "      <th>returns_with_total_inc</th>\n",
       "      <th>total_inc_amt</th>\n",
       "      <th>returns_with_unemployment</th>\n",
       "      <th>unemployment_comp</th>\n",
       "      <th>avg_income</th>\n",
       "    </tr>\n",
       "  </thead>\n",
       "  <tbody>\n",
       "    <tr>\n",
       "      <th>0</th>\n",
       "      <td>Anderson County</td>\n",
       "      <td>34290</td>\n",
       "      <td>14990</td>\n",
       "      <td>14030</td>\n",
       "      <td>4550</td>\n",
       "      <td>65950</td>\n",
       "      <td>19620</td>\n",
       "      <td>9670</td>\n",
       "      <td>1807309</td>\n",
       "      <td>34140</td>\n",
       "      <td>1830482</td>\n",
       "      <td>700</td>\n",
       "      <td>2452</td>\n",
       "      <td>53382</td>\n",
       "    </tr>\n",
       "    <tr>\n",
       "      <th>1</th>\n",
       "      <td>Bedford County</td>\n",
       "      <td>20920</td>\n",
       "      <td>8600</td>\n",
       "      <td>8010</td>\n",
       "      <td>3910</td>\n",
       "      <td>43550</td>\n",
       "      <td>15790</td>\n",
       "      <td>4430</td>\n",
       "      <td>971152</td>\n",
       "      <td>20840</td>\n",
       "      <td>985909</td>\n",
       "      <td>410</td>\n",
       "      <td>1023</td>\n",
       "      <td>47128</td>\n",
       "    </tr>\n",
       "    <tr>\n",
       "      <th>2</th>\n",
       "      <td>Benton County</td>\n",
       "      <td>6610</td>\n",
       "      <td>2660</td>\n",
       "      <td>2840</td>\n",
       "      <td>1000</td>\n",
       "      <td>13020</td>\n",
       "      <td>3890</td>\n",
       "      <td>2000</td>\n",
       "      <td>269227</td>\n",
       "      <td>6580</td>\n",
       "      <td>272971</td>\n",
       "      <td>360</td>\n",
       "      <td>1119</td>\n",
       "      <td>41297</td>\n",
       "    </tr>\n",
       "    <tr>\n",
       "      <th>3</th>\n",
       "      <td>Bledsoe County</td>\n",
       "      <td>4560</td>\n",
       "      <td>1620</td>\n",
       "      <td>2220</td>\n",
       "      <td>610</td>\n",
       "      <td>9690</td>\n",
       "      <td>3100</td>\n",
       "      <td>1200</td>\n",
       "      <td>178860</td>\n",
       "      <td>4540</td>\n",
       "      <td>181231</td>\n",
       "      <td>160</td>\n",
       "      <td>458</td>\n",
       "      <td>39744</td>\n",
       "    </tr>\n",
       "    <tr>\n",
       "      <th>4</th>\n",
       "      <td>Blount County</td>\n",
       "      <td>59550</td>\n",
       "      <td>25090</td>\n",
       "      <td>26650</td>\n",
       "      <td>6550</td>\n",
       "      <td>115820</td>\n",
       "      <td>33400</td>\n",
       "      <td>16880</td>\n",
       "      <td>3333654</td>\n",
       "      <td>59350</td>\n",
       "      <td>3381616</td>\n",
       "      <td>1190</td>\n",
       "      <td>3551</td>\n",
       "      <td>56786</td>\n",
       "    </tr>\n",
       "  </tbody>\n",
       "</table>\n",
       "</div>"
      ],
      "text/plain": [
       "            county  return_count  single_returns  joint_returns  \\\n",
       "0  Anderson County         34290           14990          14030   \n",
       "1   Bedford County         20920            8600           8010   \n",
       "2    Benton County          6610            2660           2840   \n",
       "3   Bledsoe County          4560            1620           2220   \n",
       "4    Blount County         59550           25090          26650   \n",
       "\n",
       "   head_of_house_returns  exemptions  dependents  elderly      agi  \\\n",
       "0                   4550       65950       19620     9670  1807309   \n",
       "1                   3910       43550       15790     4430   971152   \n",
       "2                   1000       13020        3890     2000   269227   \n",
       "3                    610        9690        3100     1200   178860   \n",
       "4                   6550      115820       33400    16880  3333654   \n",
       "\n",
       "   returns_with_total_inc  total_inc_amt  returns_with_unemployment  \\\n",
       "0                   34140        1830482                        700   \n",
       "1                   20840         985909                        410   \n",
       "2                    6580         272971                        360   \n",
       "3                    4540         181231                        160   \n",
       "4                   59350        3381616                       1190   \n",
       "\n",
       "   unemployment_comp  avg_income  \n",
       "0               2452       53382  \n",
       "1               1023       47128  \n",
       "2               1119       41297  \n",
       "3                458       39744  \n",
       "4               3551       56786  "
      ]
     },
     "execution_count": 128,
     "metadata": {},
     "output_type": "execute_result"
    }
   ],
   "source": [
    "income_county_agg.head()"
   ]
  },
  {
   "cell_type": "markdown",
   "metadata": {},
   "source": [
    "## Week 4 ##"
   ]
  },
  {
   "cell_type": "code",
   "execution_count": 129,
   "metadata": {},
   "outputs": [
    {
     "data": {
      "text/plain": [
       "county                       0\n",
       "return_count                 0\n",
       "single_returns               0\n",
       "joint_returns                0\n",
       "head_of_house_returns        0\n",
       "exemptions                   0\n",
       "dependents                   0\n",
       "elderly                      0\n",
       "agi                          0\n",
       "returns_with_total_inc       0\n",
       "total_inc_amt                0\n",
       "returns_with_unemployment    0\n",
       "unemployment_comp            0\n",
       "avg_income                   0\n",
       "dtype: int64"
      ]
     },
     "execution_count": 129,
     "metadata": {},
     "output_type": "execute_result"
    }
   ],
   "source": [
    "income_county_agg.isnull().sum()"
   ]
  },
  {
   "cell_type": "code",
   "execution_count": 130,
   "metadata": {},
   "outputs": [],
   "source": [
    "import matplotlib.pyplot as plt\n",
    "import seaborn as sns\n",
    "\n",
    "%matplotlib inline"
   ]
  },
  {
   "cell_type": "code",
   "execution_count": 131,
   "metadata": {},
   "outputs": [
    {
     "data": {
      "text/plain": [
       "Text(0.5, 1.0, 'income')"
      ]
     },
     "execution_count": 131,
     "metadata": {},
     "output_type": "execute_result"
    },
    {
     "data": {
      "image/png": "[encoded data removed]",
      "text/plain": [
       "<Figure size 1440x432 with 1 Axes>"
      ]
     },
     "metadata": {
      "needs_background": "light"
     },
     "output_type": "display_data"
    }
   ],
   "source": [
    "plt.figure(figsize=(20,6))\n",
    "plt.xticks(rotation = 70,ha='right')\n",
    "sns.barplot('county', 'avg_income', data = income_county_agg)\n",
    "plt.title('income')"
   ]
  },
  {
   "cell_type": "code",
   "execution_count": 132,
   "metadata": {},
   "outputs": [
    {
     "data": {
      "text/plain": [
       "<matplotlib.axes._subplots.AxesSubplot at 0x7fde4d00e790>"
      ]
     },
     "execution_count": 132,
     "metadata": {},
     "output_type": "execute_result"
    },
    {
     "data": {
      "image/png": "[encoded data removed]",
      "text/plain": [
       "<Figure size 1440x432 with 1 Axes>"
      ]
     },
     "metadata": {
      "needs_background": "light"
     },
     "output_type": "display_data"
    }
   ],
   "source": [
    "plt.figure(figsize=(20,6))\n",
    "plt.xticks(rotation = 70,ha='right')\n",
    "plt.title('Cancer Costs')\n",
    "sns.barplot('county', 'analysis_value', data = cancer_costs_df)"
   ]
  },
  {
   "cell_type": "code",
   "execution_count": 133,
   "metadata": {},
   "outputs": [
    {
     "data": {
      "text/plain": [
       "<matplotlib.axes._subplots.AxesSubplot at 0x7fde4be71f90>"
      ]
     },
     "execution_count": 133,
     "metadata": {},
     "output_type": "execute_result"
    },
    {
     "data": {
      "image/png": "[encoded data removed]",
      "text/plain": [
       "<Figure size 1440x432 with 1 Axes>"
      ]
     },
     "metadata": {
      "needs_background": "light"
     },
     "output_type": "display_data"
    }
   ],
   "source": [
    "plt.figure(figsize=(20,6))\n",
    "plt.xticks(rotation = 70,ha='right')\n",
    "plt.title('Heart Attack Costs')\n",
    "sns.barplot('county', 'analysis_value', data = ha_costs_df)"
   ]
  },
  {
   "cell_type": "code",
   "execution_count": 134,
   "metadata": {},
   "outputs": [],
   "source": [
    "tn_ha_costs = ha_costs_df[['county','urban','analysis_value']]"
   ]
  },
  {
   "cell_type": "code",
   "execution_count": 135,
   "metadata": {},
   "outputs": [],
   "source": [
    "tn_ha_cost2 = pd.merge(income_county_agg[['county','avg_income']], tn_ha_costs, on=\"county\", how = 'left')"
   ]
  },
  {
   "cell_type": "code",
   "execution_count": 136,
   "metadata": {},
   "outputs": [
    {
     "data": {
      "text/html": [
       "<div>\n",
       "<style scoped>\n",
       "    .dataframe tbody tr th:only-of-type {\n",
       "        vertical-align: middle;\n",
       "    }\n",
       "\n",
       "    .dataframe tbody tr th {\n",
       "        vertical-align: top;\n",
       "    }\n",
       "\n",
       "    .dataframe thead th {\n",
       "        text-align: right;\n",
       "    }\n",
       "</style>\n",
       "<table border=\"1\" class=\"dataframe\">\n",
       "  <thead>\n",
       "    <tr style=\"text-align: right;\">\n",
       "      <th></th>\n",
       "      <th>county</th>\n",
       "      <th>avg_income</th>\n",
       "      <th>urban</th>\n",
       "      <th>analysis_value</th>\n",
       "    </tr>\n",
       "  </thead>\n",
       "  <tbody>\n",
       "    <tr>\n",
       "      <th>0</th>\n",
       "      <td>Anderson County</td>\n",
       "      <td>53382</td>\n",
       "      <td>Urban</td>\n",
       "      <td>42749.0</td>\n",
       "    </tr>\n",
       "    <tr>\n",
       "      <th>1</th>\n",
       "      <td>Bedford County</td>\n",
       "      <td>47128</td>\n",
       "      <td>Rural</td>\n",
       "      <td>43661.0</td>\n",
       "    </tr>\n",
       "    <tr>\n",
       "      <th>2</th>\n",
       "      <td>Benton County</td>\n",
       "      <td>41297</td>\n",
       "      <td>Rural</td>\n",
       "      <td>44423.0</td>\n",
       "    </tr>\n",
       "    <tr>\n",
       "      <th>3</th>\n",
       "      <td>Bledsoe County</td>\n",
       "      <td>39744</td>\n",
       "      <td>Rural</td>\n",
       "      <td>41240.0</td>\n",
       "    </tr>\n",
       "    <tr>\n",
       "      <th>4</th>\n",
       "      <td>Blount County</td>\n",
       "      <td>56786</td>\n",
       "      <td>Urban</td>\n",
       "      <td>38968.0</td>\n",
       "    </tr>\n",
       "  </tbody>\n",
       "</table>\n",
       "</div>"
      ],
      "text/plain": [
       "            county  avg_income  urban  analysis_value\n",
       "0  Anderson County       53382  Urban         42749.0\n",
       "1   Bedford County       47128  Rural         43661.0\n",
       "2    Benton County       41297  Rural         44423.0\n",
       "3   Bledsoe County       39744  Rural         41240.0\n",
       "4    Blount County       56786  Urban         38968.0"
      ]
     },
     "execution_count": 136,
     "metadata": {},
     "output_type": "execute_result"
    }
   ],
   "source": [
    "tn_ha_cost2.head()"
   ]
  },
  {
   "cell_type": "code",
   "execution_count": 137,
   "metadata": {},
   "outputs": [],
   "source": [
    "tn_ha_cost2['cost_income_ratio'] = tn_ha_cost2.analysis_value / tn_ha_cost2.avg_income"
   ]
  },
  {
   "cell_type": "code",
   "execution_count": 138,
   "metadata": {},
   "outputs": [
    {
     "data": {
      "text/plain": [
       "count    91.000000\n",
       "mean      0.990191\n",
       "std       0.215559\n",
       "min       0.474235\n",
       "25%       0.853859\n",
       "50%       1.006337\n",
       "75%       1.122572\n",
       "max       1.628980\n",
       "Name: cost_income_ratio, dtype: float64"
      ]
     },
     "execution_count": 138,
     "metadata": {},
     "output_type": "execute_result"
    }
   ],
   "source": [
    "tn_ha_cost2.cost_income_ratio.describe()"
   ]
  },
  {
   "cell_type": "code",
   "execution_count": 139,
   "metadata": {},
   "outputs": [
    {
     "data": {
      "text/plain": [
       "county               0\n",
       "avg_income           0\n",
       "urban                5\n",
       "analysis_value       5\n",
       "cost_income_ratio    5\n",
       "dtype: int64"
      ]
     },
     "execution_count": 139,
     "metadata": {},
     "output_type": "execute_result"
    }
   ],
   "source": [
    "tn_ha_cost2.isnull().sum()"
   ]
  },
  {
   "cell_type": "code",
   "execution_count": 140,
   "metadata": {},
   "outputs": [],
   "source": [
    "tn_cancer_costs = cancer_costs_df[['county','urban','analysis_value']]\n",
    "tn_cancer_cost2 = pd.merge(income_county_agg[['county','avg_income']], tn_cancer_costs, on=\"county\", how = 'left')\n",
    "tn_cancer_cost2['cost_income_ratio'] = tn_cancer_cost2.analysis_value / tn_cancer_cost2.avg_income"
   ]
  },
  {
   "cell_type": "code",
   "execution_count": 141,
   "metadata": {},
   "outputs": [
    {
     "data": {
      "text/plain": [
       "county               0\n",
       "avg_income           0\n",
       "urban                1\n",
       "analysis_value       1\n",
       "cost_income_ratio    1\n",
       "dtype: int64"
      ]
     },
     "execution_count": 141,
     "metadata": {},
     "output_type": "execute_result"
    }
   ],
   "source": [
    "tn_cancer_cost2.isnull().sum()"
   ]
  },
  {
   "cell_type": "code",
   "execution_count": 142,
   "metadata": {},
   "outputs": [],
   "source": [
    "import geopandas as gpd"
   ]
  },
  {
   "cell_type": "code",
   "execution_count": 143,
   "metadata": {},
   "outputs": [],
   "source": [
    "counties = gpd.read_file('../data/county/tn_counties.shp')"
   ]
  },
  {
   "cell_type": "code",
   "execution_count": 144,
   "metadata": {},
   "outputs": [
    {
     "data": {
      "text/html": [
       "<div>\n",
       "<style scoped>\n",
       "    .dataframe tbody tr th:only-of-type {\n",
       "        vertical-align: middle;\n",
       "    }\n",
       "\n",
       "    .dataframe tbody tr th {\n",
       "        vertical-align: top;\n",
       "    }\n",
       "\n",
       "    .dataframe thead th {\n",
       "        text-align: right;\n",
       "    }\n",
       "</style>\n",
       "<table border=\"1\" class=\"dataframe\">\n",
       "  <thead>\n",
       "    <tr style=\"text-align: right;\">\n",
       "      <th></th>\n",
       "      <th>AREA</th>\n",
       "      <th>PERIMETER</th>\n",
       "      <th>TNCODD_</th>\n",
       "      <th>TNCODD_ID</th>\n",
       "      <th>INDEX_NO</th>\n",
       "      <th>COUNTY</th>\n",
       "      <th>STATE</th>\n",
       "      <th>geometry</th>\n",
       "    </tr>\n",
       "  </thead>\n",
       "  <tbody>\n",
       "    <tr>\n",
       "      <th>16</th>\n",
       "      <td>0.0</td>\n",
       "      <td>0.000052</td>\n",
       "      <td>18</td>\n",
       "      <td>100</td>\n",
       "      <td>0</td>\n",
       "      <td>None</td>\n",
       "      <td>TN</td>\n",
       "      <td>POLYGON ((2178631.038550627 800873.6557317519,...</td>\n",
       "    </tr>\n",
       "  </tbody>\n",
       "</table>\n",
       "</div>"
      ],
      "text/plain": [
       "    AREA  PERIMETER  TNCODD_  TNCODD_ID  INDEX_NO COUNTY STATE  \\\n",
       "16   0.0   0.000052       18        100         0   None    TN   \n",
       "\n",
       "                                             geometry  \n",
       "16  POLYGON ((2178631.038550627 800873.6557317519,...  "
      ]
     },
     "execution_count": 144,
     "metadata": {},
     "output_type": "execute_result"
    }
   ],
   "source": [
    "counties[counties.COUNTY.isnull()]"
   ]
  },
  {
   "cell_type": "code",
   "execution_count": 145,
   "metadata": {},
   "outputs": [],
   "source": [
    "counties = counties.dropna()"
   ]
  },
  {
   "cell_type": "code",
   "execution_count": 146,
   "metadata": {},
   "outputs": [],
   "source": [
    "counties['COUNTY'] = counties.COUNTY.map(lambda x:x + ' County')"
   ]
  },
  {
   "cell_type": "code",
   "execution_count": 147,
   "metadata": {},
   "outputs": [],
   "source": [
    "counties = counties.rename(columns = {'COUNTY':'county'})"
   ]
  },
  {
   "cell_type": "code",
   "execution_count": 148,
   "metadata": {},
   "outputs": [
    {
     "data": {
      "text/plain": [
       "(99,)"
      ]
     },
     "execution_count": 148,
     "metadata": {},
     "output_type": "execute_result"
    }
   ],
   "source": [
    "counties.county.duplicated(keep='first').shape"
   ]
  },
  {
   "cell_type": "code",
   "execution_count": 149,
   "metadata": {},
   "outputs": [],
   "source": [
    "county_dic = {'Dekalb County':'DeKalb County','Van_Buren County':'Van Buren County'}\n",
    "counties = counties.replace({\"county\": county_dic})"
   ]
  },
  {
   "cell_type": "code",
   "execution_count": 150,
   "metadata": {},
   "outputs": [],
   "source": [
    "counties_ha_costs = pd.merge(counties, tn_ha_cost2,on='county',how='left')\n",
    "counties_cancer_costs = pd.merge(counties,tn_cancer_cost2, on='county', how='left')"
   ]
  },
  {
   "cell_type": "code",
   "execution_count": 151,
   "metadata": {},
   "outputs": [
    {
     "data": {
      "text/html": [
       "<div>\n",
       "<style scoped>\n",
       "    .dataframe tbody tr th:only-of-type {\n",
       "        vertical-align: middle;\n",
       "    }\n",
       "\n",
       "    .dataframe tbody tr th {\n",
       "        vertical-align: top;\n",
       "    }\n",
       "\n",
       "    .dataframe thead th {\n",
       "        text-align: right;\n",
       "    }\n",
       "</style>\n",
       "<table border=\"1\" class=\"dataframe\">\n",
       "  <thead>\n",
       "    <tr style=\"text-align: right;\">\n",
       "      <th></th>\n",
       "      <th>AREA</th>\n",
       "      <th>PERIMETER</th>\n",
       "      <th>TNCODD_</th>\n",
       "      <th>TNCODD_ID</th>\n",
       "      <th>INDEX_NO</th>\n",
       "      <th>county</th>\n",
       "      <th>STATE</th>\n",
       "      <th>geometry</th>\n",
       "      <th>avg_income</th>\n",
       "      <th>urban</th>\n",
       "      <th>analysis_value</th>\n",
       "      <th>cost_income_ratio</th>\n",
       "    </tr>\n",
       "  </thead>\n",
       "  <tbody>\n",
       "    <tr>\n",
       "      <th>6</th>\n",
       "      <td>0.045397</td>\n",
       "      <td>1.533515</td>\n",
       "      <td>8</td>\n",
       "      <td>11</td>\n",
       "      <td>75</td>\n",
       "      <td>Pickett County</td>\n",
       "      <td>TN</td>\n",
       "      <td>POLYGON ((2180898.059483483 835649.2535961485,...</td>\n",
       "      <td>45798</td>\n",
       "      <td>NaN</td>\n",
       "      <td>NaN</td>\n",
       "      <td>NaN</td>\n",
       "    </tr>\n",
       "    <tr>\n",
       "      <th>11</th>\n",
       "      <td>0.058448</td>\n",
       "      <td>1.667816</td>\n",
       "      <td>13</td>\n",
       "      <td>7</td>\n",
       "      <td>86</td>\n",
       "      <td>Hancock County</td>\n",
       "      <td>TN</td>\n",
       "      <td>POLYGON ((2710563.815864111 833649.5841148141,...</td>\n",
       "      <td>32573</td>\n",
       "      <td>NaN</td>\n",
       "      <td>NaN</td>\n",
       "      <td>NaN</td>\n",
       "    </tr>\n",
       "    <tr>\n",
       "      <th>68</th>\n",
       "      <td>0.070751</td>\n",
       "      <td>1.383267</td>\n",
       "      <td>71</td>\n",
       "      <td>54</td>\n",
       "      <td>48</td>\n",
       "      <td>Van Buren County</td>\n",
       "      <td>TN</td>\n",
       "      <td>POLYGON ((2110857.408298724 532166.4018270174,...</td>\n",
       "      <td>39591</td>\n",
       "      <td>NaN</td>\n",
       "      <td>NaN</td>\n",
       "      <td>NaN</td>\n",
       "    </tr>\n",
       "    <tr>\n",
       "      <th>90</th>\n",
       "      <td>0.033474</td>\n",
       "      <td>1.610504</td>\n",
       "      <td>93</td>\n",
       "      <td>26</td>\n",
       "      <td>27</td>\n",
       "      <td>Moore County</td>\n",
       "      <td>TN</td>\n",
       "      <td>POLYGON ((1891585.059225946 391942.2732763357,...</td>\n",
       "      <td>54317</td>\n",
       "      <td>NaN</td>\n",
       "      <td>NaN</td>\n",
       "      <td>NaN</td>\n",
       "    </tr>\n",
       "  </tbody>\n",
       "</table>\n",
       "</div>"
      ],
      "text/plain": [
       "        AREA  PERIMETER  TNCODD_  TNCODD_ID  INDEX_NO            county STATE  \\\n",
       "6   0.045397   1.533515        8         11        75    Pickett County    TN   \n",
       "11  0.058448   1.667816       13          7        86    Hancock County    TN   \n",
       "68  0.070751   1.383267       71         54        48  Van Buren County    TN   \n",
       "90  0.033474   1.610504       93         26        27      Moore County    TN   \n",
       "\n",
       "                                             geometry  avg_income urban  \\\n",
       "6   POLYGON ((2180898.059483483 835649.2535961485,...       45798   NaN   \n",
       "11  POLYGON ((2710563.815864111 833649.5841148141,...       32573   NaN   \n",
       "68  POLYGON ((2110857.408298724 532166.4018270174,...       39591   NaN   \n",
       "90  POLYGON ((1891585.059225946 391942.2732763357,...       54317   NaN   \n",
       "\n",
       "    analysis_value  cost_income_ratio  \n",
       "6              NaN                NaN  \n",
       "11             NaN                NaN  \n",
       "68             NaN                NaN  \n",
       "90             NaN                NaN  "
      ]
     },
     "execution_count": 151,
     "metadata": {},
     "output_type": "execute_result"
    }
   ],
   "source": [
    "counties_ha_costs[counties_ha_costs.analysis_value.isnull()]"
   ]
  },
  {
   "cell_type": "code",
   "execution_count": 152,
   "metadata": {},
   "outputs": [
    {
     "data": {
      "text/plain": [
       "(99, 12)"
      ]
     },
     "execution_count": 152,
     "metadata": {},
     "output_type": "execute_result"
    }
   ],
   "source": [
    "counties_cancer_costs.shape"
   ]
  },
  {
   "cell_type": "code",
   "execution_count": 153,
   "metadata": {},
   "outputs": [
    {
     "data": {
      "text/html": [
       "<div>\n",
       "<style scoped>\n",
       "    .dataframe tbody tr th:only-of-type {\n",
       "        vertical-align: middle;\n",
       "    }\n",
       "\n",
       "    .dataframe tbody tr th {\n",
       "        vertical-align: top;\n",
       "    }\n",
       "\n",
       "    .dataframe thead th {\n",
       "        text-align: right;\n",
       "    }\n",
       "</style>\n",
       "<table border=\"1\" class=\"dataframe\">\n",
       "  <thead>\n",
       "    <tr style=\"text-align: right;\">\n",
       "      <th></th>\n",
       "      <th>county</th>\n",
       "      <th>avg_income</th>\n",
       "      <th>urban</th>\n",
       "      <th>analysis_value</th>\n",
       "      <th>cost_income_ratio</th>\n",
       "    </tr>\n",
       "  </thead>\n",
       "  <tbody>\n",
       "    <tr>\n",
       "      <th>68</th>\n",
       "      <td>Pickett County</td>\n",
       "      <td>45798</td>\n",
       "      <td>NaN</td>\n",
       "      <td>NaN</td>\n",
       "      <td>NaN</td>\n",
       "    </tr>\n",
       "  </tbody>\n",
       "</table>\n",
       "</div>"
      ],
      "text/plain": [
       "            county  avg_income urban  analysis_value  cost_income_ratio\n",
       "68  Pickett County       45798   NaN             NaN                NaN"
      ]
     },
     "execution_count": 153,
     "metadata": {},
     "output_type": "execute_result"
    }
   ],
   "source": [
    "tn_ha_cost2[tn_ha_cost2.county.str.contains('Pickett',case=False)]"
   ]
  },
  {
   "cell_type": "code",
   "execution_count": 154,
   "metadata": {},
   "outputs": [
    {
     "data": {
      "text/html": [
       "<div>\n",
       "<style scoped>\n",
       "    .dataframe tbody tr th:only-of-type {\n",
       "        vertical-align: middle;\n",
       "    }\n",
       "\n",
       "    .dataframe tbody tr th {\n",
       "        vertical-align: top;\n",
       "    }\n",
       "\n",
       "    .dataframe thead th {\n",
       "        text-align: right;\n",
       "    }\n",
       "</style>\n",
       "<table border=\"1\" class=\"dataframe\">\n",
       "  <thead>\n",
       "    <tr style=\"text-align: right;\">\n",
       "      <th></th>\n",
       "      <th>AREA</th>\n",
       "      <th>PERIMETER</th>\n",
       "      <th>TNCODD_</th>\n",
       "      <th>TNCODD_ID</th>\n",
       "      <th>INDEX_NO</th>\n",
       "      <th>county</th>\n",
       "      <th>STATE</th>\n",
       "      <th>geometry</th>\n",
       "      <th>avg_income</th>\n",
       "      <th>urban</th>\n",
       "      <th>analysis_value</th>\n",
       "      <th>cost_income_ratio</th>\n",
       "    </tr>\n",
       "  </thead>\n",
       "  <tbody>\n",
       "    <tr>\n",
       "      <th>0</th>\n",
       "      <td>0.128263</td>\n",
       "      <td>1.518444</td>\n",
       "      <td>2</td>\n",
       "      <td>77</td>\n",
       "      <td>59</td>\n",
       "      <td>Stewart County</td>\n",
       "      <td>TN</td>\n",
       "      <td>POLYGON ((1364976.405478028 793944.5740065643,...</td>\n",
       "      <td>44939</td>\n",
       "      <td>Urban</td>\n",
       "      <td>51882.0</td>\n",
       "      <td>1.154498</td>\n",
       "    </tr>\n",
       "    <tr>\n",
       "      <th>1</th>\n",
       "      <td>0.124217</td>\n",
       "      <td>1.750500</td>\n",
       "      <td>3</td>\n",
       "      <td>81</td>\n",
       "      <td>62</td>\n",
       "      <td>Robertson County</td>\n",
       "      <td>TN</td>\n",
       "      <td>POLYGON ((1641280.781373917 842367.2746404002,...</td>\n",
       "      <td>52259</td>\n",
       "      <td>Urban</td>\n",
       "      <td>42519.0</td>\n",
       "      <td>0.813621</td>\n",
       "    </tr>\n",
       "    <tr>\n",
       "      <th>2</th>\n",
       "      <td>0.141647</td>\n",
       "      <td>1.975747</td>\n",
       "      <td>4</td>\n",
       "      <td>82</td>\n",
       "      <td>64</td>\n",
       "      <td>Sumner County</td>\n",
       "      <td>TN</td>\n",
       "      <td>POLYGON ((1802978.842360515 837772.8471861221,...</td>\n",
       "      <td>68528</td>\n",
       "      <td>Urban</td>\n",
       "      <td>46941.0</td>\n",
       "      <td>0.684990</td>\n",
       "    </tr>\n",
       "    <tr>\n",
       "      <th>3</th>\n",
       "      <td>0.141815</td>\n",
       "      <td>1.769964</td>\n",
       "      <td>5</td>\n",
       "      <td>84</td>\n",
       "      <td>60</td>\n",
       "      <td>Montgomery County</td>\n",
       "      <td>TN</td>\n",
       "      <td>POLYGON ((1485935.933511378 842978.4805909351,...</td>\n",
       "      <td>47498</td>\n",
       "      <td>Urban</td>\n",
       "      <td>47799.0</td>\n",
       "      <td>1.006337</td>\n",
       "    </tr>\n",
       "    <tr>\n",
       "      <th>4</th>\n",
       "      <td>0.079980</td>\n",
       "      <td>1.244972</td>\n",
       "      <td>6</td>\n",
       "      <td>15</td>\n",
       "      <td>71</td>\n",
       "      <td>Macon County</td>\n",
       "      <td>TN</td>\n",
       "      <td>POLYGON ((1908481.094009018 839761.3791088989,...</td>\n",
       "      <td>43220</td>\n",
       "      <td>Urban</td>\n",
       "      <td>57048.0</td>\n",
       "      <td>1.319944</td>\n",
       "    </tr>\n",
       "  </tbody>\n",
       "</table>\n",
       "</div>"
      ],
      "text/plain": [
       "       AREA  PERIMETER  TNCODD_  TNCODD_ID  INDEX_NO             county STATE  \\\n",
       "0  0.128263   1.518444        2         77        59     Stewart County    TN   \n",
       "1  0.124217   1.750500        3         81        62   Robertson County    TN   \n",
       "2  0.141647   1.975747        4         82        64      Sumner County    TN   \n",
       "3  0.141815   1.769964        5         84        60  Montgomery County    TN   \n",
       "4  0.079980   1.244972        6         15        71       Macon County    TN   \n",
       "\n",
       "                                            geometry  avg_income  urban  \\\n",
       "0  POLYGON ((1364976.405478028 793944.5740065643,...       44939  Urban   \n",
       "1  POLYGON ((1641280.781373917 842367.2746404002,...       52259  Urban   \n",
       "2  POLYGON ((1802978.842360515 837772.8471861221,...       68528  Urban   \n",
       "3  POLYGON ((1485935.933511378 842978.4805909351,...       47498  Urban   \n",
       "4  POLYGON ((1908481.094009018 839761.3791088989,...       43220  Urban   \n",
       "\n",
       "   analysis_value  cost_income_ratio  \n",
       "0         51882.0           1.154498  \n",
       "1         42519.0           0.813621  \n",
       "2         46941.0           0.684990  \n",
       "3         47799.0           1.006337  \n",
       "4         57048.0           1.319944  "
      ]
     },
     "execution_count": 154,
     "metadata": {},
     "output_type": "execute_result"
    }
   ],
   "source": [
    "counties_ha_costs.head()"
   ]
  },
  {
   "cell_type": "code",
   "execution_count": 155,
   "metadata": {},
   "outputs": [
    {
     "data": {
      "image/png": "[encoded data removed]",
      "text/plain": [
       "<Figure size 1152x288 with 2 Axes>"
      ]
     },
     "metadata": {
      "needs_background": "light"
     },
     "output_type": "display_data"
    }
   ],
   "source": [
    "fig, ax = plt.subplots(figsize=(16,4))\n",
    "counties_ha_costs.plot(color='red',edgecolor='k',ax=ax)\n",
    "counties_ha_costs = counties_ha_costs.dropna()\n",
    "counties_ha_costs.plot(column = 'cost_income_ratio', \n",
    "              cmap = 'Purples', \n",
    "              edgecolor = 'black', \n",
    "              legend = True,\n",
    "              ax = ax)\n",
    "plt.title('Heart Attack Cost/Income Ratio by County\\nRed: Missing value', fontsize = 14)\n",
    "ax.axis('off');"
   ]
  },
  {
   "cell_type": "code",
   "execution_count": 156,
   "metadata": {},
   "outputs": [
    {
     "data": {
      "image/png": "[encoded data removed]",
      "text/plain": [
       "<Figure size 1152x288 with 2 Axes>"
      ]
     },
     "metadata": {
      "needs_background": "light"
     },
     "output_type": "display_data"
    }
   ],
   "source": [
    "fig, ax = plt.subplots(figsize=(16,4))\n",
    "counties_cancer_costs.plot(column = 'cost_income_ratio', \n",
    "              cmap = 'Greens', \n",
    "              edgecolor = 'black', \n",
    "              legend = True,\n",
    "              ax = ax)\n",
    "plt.title('Cancers Cost/Income Ratio by County\\nRed: Missing value', fontsize = 14)\n",
    "ax.axis('off');"
   ]
  },
  {
   "cell_type": "markdown",
   "metadata": {},
   "source": [
    "### Week 5 ###"
   ]
  },
  {
   "cell_type": "code",
   "execution_count": 157,
   "metadata": {},
   "outputs": [],
   "source": [
    "mean = tn_ha_cost2.cost_income_ratio.mean()"
   ]
  },
  {
   "cell_type": "code",
   "execution_count": 158,
   "metadata": {},
   "outputs": [],
   "source": [
    "tn_ha_cost2['classifer'] = 0"
   ]
  },
  {
   "cell_type": "code",
   "execution_count": 159,
   "metadata": {},
   "outputs": [],
   "source": [
    "tn_ha_cost2.loc[tn_ha_cost2.cost_income_ratio > mean,'classifer'] = 1"
   ]
  },
  {
   "cell_type": "code",
   "execution_count": 160,
   "metadata": {},
   "outputs": [],
   "source": [
    "tn_ha_cost2 = pd.get_dummies(tn_ha_cost2, columns = ['urban'], drop_first = True)"
   ]
  },
  {
   "cell_type": "code",
   "execution_count": 161,
   "metadata": {},
   "outputs": [
    {
     "data": {
      "text/plain": [
       "1    48\n",
       "0    48\n",
       "Name: classifer, dtype: int64"
      ]
     },
     "execution_count": 161,
     "metadata": {},
     "output_type": "execute_result"
    }
   ],
   "source": [
    "tn_ha_cost2.classifer.value_counts()"
   ]
  },
  {
   "cell_type": "code",
   "execution_count": 162,
   "metadata": {},
   "outputs": [],
   "source": [
    "from sklearn.model_selection import train_test_split\n",
    "from sklearn.linear_model import LogisticRegression"
   ]
  },
  {
   "cell_type": "code",
   "execution_count": 163,
   "metadata": {},
   "outputs": [
    {
     "data": {
      "text/html": [
       "<div>\n",
       "<style scoped>\n",
       "    .dataframe tbody tr th:only-of-type {\n",
       "        vertical-align: middle;\n",
       "    }\n",
       "\n",
       "    .dataframe tbody tr th {\n",
       "        vertical-align: top;\n",
       "    }\n",
       "\n",
       "    .dataframe thead th {\n",
       "        text-align: right;\n",
       "    }\n",
       "</style>\n",
       "<table border=\"1\" class=\"dataframe\">\n",
       "  <thead>\n",
       "    <tr style=\"text-align: right;\">\n",
       "      <th></th>\n",
       "      <th>county</th>\n",
       "      <th>avg_income</th>\n",
       "      <th>analysis_value</th>\n",
       "      <th>cost_income_ratio</th>\n",
       "      <th>classifer</th>\n",
       "      <th>urban_Urban</th>\n",
       "    </tr>\n",
       "  </thead>\n",
       "  <tbody>\n",
       "    <tr>\n",
       "      <th>0</th>\n",
       "      <td>Anderson County</td>\n",
       "      <td>53382</td>\n",
       "      <td>42749.0</td>\n",
       "      <td>0.800813</td>\n",
       "      <td>0</td>\n",
       "      <td>1</td>\n",
       "    </tr>\n",
       "    <tr>\n",
       "      <th>1</th>\n",
       "      <td>Bedford County</td>\n",
       "      <td>47128</td>\n",
       "      <td>43661.0</td>\n",
       "      <td>0.926434</td>\n",
       "      <td>0</td>\n",
       "      <td>0</td>\n",
       "    </tr>\n",
       "    <tr>\n",
       "      <th>2</th>\n",
       "      <td>Benton County</td>\n",
       "      <td>41297</td>\n",
       "      <td>44423.0</td>\n",
       "      <td>1.075696</td>\n",
       "      <td>1</td>\n",
       "      <td>0</td>\n",
       "    </tr>\n",
       "    <tr>\n",
       "      <th>3</th>\n",
       "      <td>Bledsoe County</td>\n",
       "      <td>39744</td>\n",
       "      <td>41240.0</td>\n",
       "      <td>1.037641</td>\n",
       "      <td>1</td>\n",
       "      <td>0</td>\n",
       "    </tr>\n",
       "    <tr>\n",
       "      <th>4</th>\n",
       "      <td>Blount County</td>\n",
       "      <td>56786</td>\n",
       "      <td>38968.0</td>\n",
       "      <td>0.686225</td>\n",
       "      <td>0</td>\n",
       "      <td>1</td>\n",
       "    </tr>\n",
       "  </tbody>\n",
       "</table>\n",
       "</div>"
      ],
      "text/plain": [
       "            county  avg_income  analysis_value  cost_income_ratio  classifer  \\\n",
       "0  Anderson County       53382         42749.0           0.800813          0   \n",
       "1   Bedford County       47128         43661.0           0.926434          0   \n",
       "2    Benton County       41297         44423.0           1.075696          1   \n",
       "3   Bledsoe County       39744         41240.0           1.037641          1   \n",
       "4    Blount County       56786         38968.0           0.686225          0   \n",
       "\n",
       "   urban_Urban  \n",
       "0            1  \n",
       "1            0  \n",
       "2            0  \n",
       "3            0  \n",
       "4            1  "
      ]
     },
     "execution_count": 163,
     "metadata": {},
     "output_type": "execute_result"
    }
   ],
   "source": [
    "tn_ha_cost2.head()"
   ]
  },
  {
   "cell_type": "code",
   "execution_count": 164,
   "metadata": {},
   "outputs": [
    {
     "data": {
      "text/plain": [
       "county               0\n",
       "avg_income           0\n",
       "analysis_value       5\n",
       "cost_income_ratio    5\n",
       "classifer            0\n",
       "urban_Urban          0\n",
       "dtype: int64"
      ]
     },
     "execution_count": 164,
     "metadata": {},
     "output_type": "execute_result"
    }
   ],
   "source": [
    "tn_ha_cost2.isnull().sum()"
   ]
  },
  {
   "cell_type": "code",
   "execution_count": 165,
   "metadata": {},
   "outputs": [],
   "source": [
    "tn_ha_cost2.dropna(inplace=True)"
   ]
  },
  {
   "cell_type": "code",
   "execution_count": 166,
   "metadata": {},
   "outputs": [],
   "source": [
    "X = tn_ha_cost2.drop(columns = ['classifer','county'])\n",
    "y = tn_ha_cost2.classifer"
   ]
  },
  {
   "cell_type": "code",
   "execution_count": 167,
   "metadata": {},
   "outputs": [],
   "source": [
    "X_train, X_test, y_train, y_test = train_test_split(X, y, random_state = 321)"
   ]
  },
  {
   "cell_type": "code",
   "execution_count": 168,
   "metadata": {},
   "outputs": [
    {
     "name": "stderr",
     "output_type": "stream",
     "text": [
      "/home/yunkai/miniconda3/envs/datascience/lib/python3.7/site-packages/sklearn/linear_model/logistic.py:432: FutureWarning: Default solver will be changed to 'lbfgs' in 0.22. Specify a solver to silence this warning.\n",
      "  FutureWarning)\n"
     ]
    },
    {
     "data": {
      "text/plain": [
       "LogisticRegression(C=1.0, class_weight=None, dual=False, fit_intercept=True,\n",
       "                   intercept_scaling=1, l1_ratio=None, max_iter=100,\n",
       "                   multi_class='warn', n_jobs=None, penalty='l2',\n",
       "                   random_state=None, solver='warn', tol=0.0001, verbose=0,\n",
       "                   warm_start=False)"
      ]
     },
     "execution_count": 168,
     "metadata": {},
     "output_type": "execute_result"
    }
   ],
   "source": [
    "logistic_model = LogisticRegression()\n",
    "logistic_model.fit(X_train, y_train)"
   ]
  },
  {
   "cell_type": "code",
   "execution_count": 169,
   "metadata": {},
   "outputs": [
    {
     "data": {
      "image/png": "[encoded data removed]",
      "text/plain": [
       "<Figure size 504x360 with 1 Axes>"
      ]
     },
     "metadata": {
      "needs_background": "light"
     },
     "output_type": "display_data"
    }
   ],
   "source": [
    "fig, ax = plt.subplots(figsize = (7,5))\n",
    "sns.barplot(x = logistic_model.coef_[0], y = list(X.columns), ax = ax, edgecolor = 'black')\n",
    "plt.title('Logistic Regression Coefficients');"
   ]
  },
  {
   "cell_type": "code",
   "execution_count": 170,
   "metadata": {},
   "outputs": [],
   "source": [
    "y_pred = logistic_model.predict(X_test)"
   ]
  },
  {
   "cell_type": "code",
   "execution_count": 171,
   "metadata": {},
   "outputs": [
    {
     "name": "stdout",
     "output_type": "stream",
     "text": [
      "0.9130434782608695\n"
     ]
    }
   ],
   "source": [
    "from sklearn import metrics\n",
    "print(metrics.accuracy_score(y_test, y_pred))"
   ]
  },
  {
   "cell_type": "markdown",
   "metadata": {},
   "source": [
    "### Week 6 Code ###"
   ]
  },
  {
   "cell_type": "code",
   "execution_count": 172,
   "metadata": {},
   "outputs": [],
   "source": [
    "# import downloaded data\n",
    "population = pd.read_csv('../Data/PEP_2016_PEPANNRES_with_ann.csv',header=[0,1])"
   ]
  },
  {
   "cell_type": "code",
   "execution_count": 173,
   "metadata": {},
   "outputs": [],
   "source": [
    "population = population.iloc[1:,[2,-1]]"
   ]
  },
  {
   "cell_type": "code",
   "execution_count": 174,
   "metadata": {},
   "outputs": [],
   "source": [
    "population.columns = ['county','total_population']"
   ]
  },
  {
   "cell_type": "code",
   "execution_count": 175,
   "metadata": {},
   "outputs": [
    {
     "data": {
      "text/html": [
       "<div>\n",
       "<style scoped>\n",
       "    .dataframe tbody tr th:only-of-type {\n",
       "        vertical-align: middle;\n",
       "    }\n",
       "\n",
       "    .dataframe tbody tr th {\n",
       "        vertical-align: top;\n",
       "    }\n",
       "\n",
       "    .dataframe thead th {\n",
       "        text-align: right;\n",
       "    }\n",
       "</style>\n",
       "<table border=\"1\" class=\"dataframe\">\n",
       "  <thead>\n",
       "    <tr style=\"text-align: right;\">\n",
       "      <th></th>\n",
       "      <th>county</th>\n",
       "      <th>total_population</th>\n",
       "    </tr>\n",
       "  </thead>\n",
       "  <tbody>\n",
       "    <tr>\n",
       "      <th>1</th>\n",
       "      <td>Anderson County, Tennessee</td>\n",
       "      <td>75936</td>\n",
       "    </tr>\n",
       "    <tr>\n",
       "      <th>2</th>\n",
       "      <td>Bedford County, Tennessee</td>\n",
       "      <td>47484</td>\n",
       "    </tr>\n",
       "    <tr>\n",
       "      <th>3</th>\n",
       "      <td>Benton County, Tennessee</td>\n",
       "      <td>16014</td>\n",
       "    </tr>\n",
       "    <tr>\n",
       "      <th>4</th>\n",
       "      <td>Bledsoe County, Tennessee</td>\n",
       "      <td>14675</td>\n",
       "    </tr>\n",
       "    <tr>\n",
       "      <th>5</th>\n",
       "      <td>Blount County, Tennessee</td>\n",
       "      <td>128670</td>\n",
       "    </tr>\n",
       "  </tbody>\n",
       "</table>\n",
       "</div>"
      ],
      "text/plain": [
       "                       county  total_population\n",
       "1  Anderson County, Tennessee             75936\n",
       "2   Bedford County, Tennessee             47484\n",
       "3    Benton County, Tennessee             16014\n",
       "4   Bledsoe County, Tennessee             14675\n",
       "5    Blount County, Tennessee            128670"
      ]
     },
     "execution_count": 175,
     "metadata": {},
     "output_type": "execute_result"
    }
   ],
   "source": [
    "population.head(5)"
   ]
  },
  {
   "cell_type": "code",
   "execution_count": 176,
   "metadata": {},
   "outputs": [],
   "source": [
    "population_change = pd.read_csv('../Data/PEP_2016_PEPTCOMP_with_ann.csv',header=[0,1])"
   ]
  },
  {
   "cell_type": "code",
   "execution_count": 177,
   "metadata": {},
   "outputs": [],
   "source": [
    "population_change = population_change.iloc[1:,[2,4,7]]"
   ]
  },
  {
   "cell_type": "code",
   "execution_count": 178,
   "metadata": {},
   "outputs": [],
   "source": [
    "population_change.columns = ['county','natural_change','migration_change']"
   ]
  },
  {
   "cell_type": "code",
   "execution_count": 179,
   "metadata": {},
   "outputs": [
    {
     "data": {
      "text/html": [
       "<div>\n",
       "<style scoped>\n",
       "    .dataframe tbody tr th:only-of-type {\n",
       "        vertical-align: middle;\n",
       "    }\n",
       "\n",
       "    .dataframe tbody tr th {\n",
       "        vertical-align: top;\n",
       "    }\n",
       "\n",
       "    .dataframe thead th {\n",
       "        text-align: right;\n",
       "    }\n",
       "</style>\n",
       "<table border=\"1\" class=\"dataframe\">\n",
       "  <thead>\n",
       "    <tr style=\"text-align: right;\">\n",
       "      <th></th>\n",
       "      <th>county</th>\n",
       "      <th>natural_change</th>\n",
       "      <th>migration_change</th>\n",
       "    </tr>\n",
       "  </thead>\n",
       "  <tbody>\n",
       "    <tr>\n",
       "      <th>1</th>\n",
       "      <td>Anderson County, Tennessee</td>\n",
       "      <td>-689</td>\n",
       "      <td>1580</td>\n",
       "    </tr>\n",
       "    <tr>\n",
       "      <th>2</th>\n",
       "      <td>Bedford County, Tennessee</td>\n",
       "      <td>1056</td>\n",
       "      <td>1323</td>\n",
       "    </tr>\n",
       "    <tr>\n",
       "      <th>3</th>\n",
       "      <td>Benton County, Tennessee</td>\n",
       "      <td>-511</td>\n",
       "      <td>34</td>\n",
       "    </tr>\n",
       "    <tr>\n",
       "      <th>4</th>\n",
       "      <td>Bledsoe County, Tennessee</td>\n",
       "      <td>-53</td>\n",
       "      <td>1723</td>\n",
       "    </tr>\n",
       "    <tr>\n",
       "      <th>5</th>\n",
       "      <td>Blount County, Tennessee</td>\n",
       "      <td>-90</td>\n",
       "      <td>5361</td>\n",
       "    </tr>\n",
       "  </tbody>\n",
       "</table>\n",
       "</div>"
      ],
      "text/plain": [
       "                       county  natural_change  migration_change\n",
       "1  Anderson County, Tennessee            -689              1580\n",
       "2   Bedford County, Tennessee            1056              1323\n",
       "3    Benton County, Tennessee            -511                34\n",
       "4   Bledsoe County, Tennessee             -53              1723\n",
       "5    Blount County, Tennessee             -90              5361"
      ]
     },
     "execution_count": 179,
     "metadata": {},
     "output_type": "execute_result"
    }
   ],
   "source": [
    "population_change.head(5)"
   ]
  },
  {
   "cell_type": "code",
   "execution_count": 180,
   "metadata": {},
   "outputs": [],
   "source": [
    "age_sex = pd.read_csv('../Data/PEP_2016_PEPAGESEX_with_ann.csv',skiprows = 0, header=1)"
   ]
  },
  {
   "cell_type": "code",
   "execution_count": 181,
   "metadata": {},
   "outputs": [],
   "source": [
    "age_sex = age_sex[['Geography','Population Estimate (as of July 1) - 2016 - Male; Total',\n",
    "                   'Population Estimate (as of July 1) - 2016 - Both Sexes; 65 years and over',\n",
    "                  'Population Estimate (as of July 1) - 2016 - Male; 65 years and over']]"
   ]
  },
  {
   "cell_type": "code",
   "execution_count": 182,
   "metadata": {},
   "outputs": [],
   "source": [
    "age_sex.columns = ['county','male_population','male_65_and_over','female_65_and_over']"
   ]
  },
  {
   "cell_type": "code",
   "execution_count": 183,
   "metadata": {},
   "outputs": [
    {
     "data": {
      "text/html": [
       "<div>\n",
       "<style scoped>\n",
       "    .dataframe tbody tr th:only-of-type {\n",
       "        vertical-align: middle;\n",
       "    }\n",
       "\n",
       "    .dataframe tbody tr th {\n",
       "        vertical-align: top;\n",
       "    }\n",
       "\n",
       "    .dataframe thead th {\n",
       "        text-align: right;\n",
       "    }\n",
       "</style>\n",
       "<table border=\"1\" class=\"dataframe\">\n",
       "  <thead>\n",
       "    <tr style=\"text-align: right;\">\n",
       "      <th></th>\n",
       "      <th>county</th>\n",
       "      <th>male_population</th>\n",
       "      <th>male_65_and_over</th>\n",
       "      <th>female_65_and_over</th>\n",
       "    </tr>\n",
       "  </thead>\n",
       "  <tbody>\n",
       "    <tr>\n",
       "      <th>0</th>\n",
       "      <td>Anderson County, Tennessee</td>\n",
       "      <td>36905</td>\n",
       "      <td>14972</td>\n",
       "      <td>6590</td>\n",
       "    </tr>\n",
       "    <tr>\n",
       "      <th>1</th>\n",
       "      <td>Bedford County, Tennessee</td>\n",
       "      <td>23343</td>\n",
       "      <td>7162</td>\n",
       "      <td>3205</td>\n",
       "    </tr>\n",
       "    <tr>\n",
       "      <th>2</th>\n",
       "      <td>Benton County, Tennessee</td>\n",
       "      <td>7896</td>\n",
       "      <td>3730</td>\n",
       "      <td>1754</td>\n",
       "    </tr>\n",
       "    <tr>\n",
       "      <th>3</th>\n",
       "      <td>Bledsoe County, Tennessee</td>\n",
       "      <td>8574</td>\n",
       "      <td>2669</td>\n",
       "      <td>1333</td>\n",
       "    </tr>\n",
       "    <tr>\n",
       "      <th>4</th>\n",
       "      <td>Blount County, Tennessee</td>\n",
       "      <td>62432</td>\n",
       "      <td>24938</td>\n",
       "      <td>11218</td>\n",
       "    </tr>\n",
       "  </tbody>\n",
       "</table>\n",
       "</div>"
      ],
      "text/plain": [
       "                       county  male_population  male_65_and_over  \\\n",
       "0  Anderson County, Tennessee            36905             14972   \n",
       "1   Bedford County, Tennessee            23343              7162   \n",
       "2    Benton County, Tennessee             7896              3730   \n",
       "3   Bledsoe County, Tennessee             8574              2669   \n",
       "4    Blount County, Tennessee            62432             24938   \n",
       "\n",
       "   female_65_and_over  \n",
       "0                6590  \n",
       "1                3205  \n",
       "2                1754  \n",
       "3                1333  \n",
       "4               11218  "
      ]
     },
     "execution_count": 183,
     "metadata": {},
     "output_type": "execute_result"
    }
   ],
   "source": [
    "age_sex.head(5)"
   ]
  },
  {
   "cell_type": "code",
   "execution_count": null,
   "metadata": {},
   "outputs": [],
   "source": []
  }
 ],
 "metadata": {
  "kernelspec": {
   "display_name": "Python 3",
   "language": "python",
   "name": "python3"
  },
  "language_info": {
   "codemirror_mode": {
    "name": "ipython",
    "version": 3
   },
   "file_extension": ".py",
   "mimetype": "text/x-python",
   "name": "python",
   "nbconvert_exporter": "python",
   "pygments_lexer": "ipython3",
   "version": "3.7.4"
  }
 },
 "nbformat": 4,
 "nbformat_minor": 2
}
